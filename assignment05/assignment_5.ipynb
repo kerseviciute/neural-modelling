{
 "cells": [
  {
   "cell_type": "code",
   "execution_count": 3,
   "metadata": {},
   "outputs": [],
   "source": [
    "import numpy as np\n",
    "import matplotlib.pyplot as plt"
   ]
  },
  {
   "cell_type": "code",
   "execution_count": 4,
   "metadata": {},
   "outputs": [],
   "source": [
    "def running_mean(x, N):\n",
    "    cumsum = np.cumsum(np.insert(x, 0, 0)) \n",
    "    return (cumsum[N:] - cumsum[:-N]) / float(N)"
   ]
  },
  {
   "cell_type": "code",
   "execution_count": 13,
   "metadata": {},
   "outputs": [
    {
     "data": {
      "text/plain": [
       "(11, 15)"
      ]
     },
     "execution_count": 13,
     "metadata": {},
     "output_type": "execute_result"
    },
    {
     "data": {
      "image/png": "[encoded data removed]",
      "text/plain": [
       "<Figure size 640x480 with 1 Axes>"
      ]
     },
     "metadata": {},
     "output_type": "display_data"
    }
   ],
   "source": [
    "maze = np.zeros((9, 13))\n",
    "\n",
    "\n",
    "# place walls\n",
    "maze[2, 6:10] = 1\n",
    "maze[-3, 6:10] = 1\n",
    "maze[2:-3, 6] = 1\n",
    "\n",
    "# define start\n",
    "start = (6, 8)\n",
    "\n",
    "pad = np.ones(np.array(maze.shape) + 2)\n",
    "pad[1:-1, 1:-1] = maze\n",
    "maze = pad\n",
    "\n",
    "\n",
    "# define goal (we abuse function scoping a bit here, later we will change the goal, which will automatically change the goal in our actor critic as well)\n",
    "goal = (2, 2)\n",
    "goal_state = goal[0]*maze.shape[1] + goal[1]\n",
    "goal_value = 10\n",
    "\n",
    "def plot_maze(maze, start:None, end=None):\n",
    "    plt.imshow(maze, cmap='binary')\n",
    "\n",
    "    # draw thin grid\n",
    "    for i in range(maze.shape[0]):\n",
    "        plt.plot([-0.5, maze.shape[1]-0.5], [i-0.5, i-0.5], c='gray', lw=0.5)\n",
    "    for i in range(maze.shape[1]):\n",
    "        plt.plot([i-0.5, i-0.5], [-0.5, maze.shape[0]-0.5], c='gray', lw=0.5)\n",
    "    plt.scatter(start[1],start[0],marker='*',color='blue',s=100)\n",
    "    plt.scatter(end[1],end[0],marker='s',color='green',s=100)\n",
    "    plt.xticks([])\n",
    "    plt.yticks([])\n",
    "\n",
    "plot_maze(maze, start, goal)\n",
    "maze.shape"
   ]
  },
  {
   "cell_type": "code",
   "execution_count": 14,
   "metadata": {},
   "outputs": [
    {
     "name": "stderr",
     "output_type": "stream",
     "text": [
      "/tmp/ipykernel_5637/2572442783.py:21: RuntimeWarning: invalid value encountered in divide\n",
      "  transitions /= transitions.sum(axis=1, keepdims=True)\n"
     ]
    }
   ],
   "source": [
    "def compute_transition_matrix(maze):\n",
    "    # for a given maze, compute the transition matrix from any state to any other state under a random walk policy\n",
    "    # (you will need to think of a good way to map any 2D grid coordinates onto a single number for this)\n",
    "\n",
    "    # create a matrix over all state pairs\n",
    "    transitions = np.zeros((maze.size, maze.size))\n",
    "\n",
    "    # iterate over all states, filling in the transition probabilities to all other states on the next step (only one step into the future)\n",
    "    for i in range(maze.shape[0]):\n",
    "        for j in range(maze.shape[1]):\n",
    "            # check if state is valid\n",
    "            if maze[i, j] == 0:\n",
    "                # iterate over all possible moves\n",
    "                for move in [(0, 1), (0, -1), (1, 0), (-1, 0)]:\n",
    "                    new_i, new_j = i + move[0], j + move[1]\n",
    "                    # check if new state is valid\n",
    "                    if new_i >= 0 and new_i < maze.shape[0] and new_j >= 0 and new_j < maze.shape[1] and maze[new_i, new_j] == 0:\n",
    "                        transitions[i*maze.shape[1] + j, new_i*maze.shape[1] + new_j] = 1\n",
    "    \n",
    "    # normalize transitions\n",
    "    transitions /= transitions.sum(axis=1, keepdims=True)\n",
    "\n",
    "    # remove NaNs\n",
    "    transitions[np.isnan(transitions)] = 0\n",
    "\n",
    "    return transitions\n",
    "\n",
    "transitions = compute_transition_matrix(maze)"
   ]
  },
  {
   "cell_type": "code",
   "execution_count": 15,
   "metadata": {},
   "outputs": [],
   "source": [
    "def analytical_sr(transitions: np.ndarray, gamma: float) -> np.ndarray:\n",
    "    \"\"\"do the closed form solution for successor representation. Equal to the infinite product. \n",
    "\n",
    "    Args:\n",
    "        transitions (np.ndarray): transition matrix from state to state\n",
    "        gamma (float): discount factor\n",
    "\n",
    "    Returns:\n",
    "        np.ndarray: updated transition matrix\n",
    "    \"\"\"\n",
    "    return np.linalg.inv(np.eye(transitions.shape[0]) - gamma * transitions.T)\n",
    "\n",
    "i, j = start\n",
    "# compute the SR for all states, based on the transition matrix\n",
    "# note that we use a lower discounting here, to keep the SR more local\n",
    "analytical_state_repr = analytical_sr(transitions, 0.8)"
   ]
  },
  {
   "cell_type": "code",
   "execution_count": 9,
   "metadata": {},
   "outputs": [],
   "source": [
    "grid_indices = np.stack(np.meshgrid(np.arange(11), np.arange(15))).reshape(2,-1).T"
   ]
  },
  {
   "cell_type": "markdown",
   "metadata": {},
   "source": [
    "# Part 1:\n",
    "\n",
    "program an actor critic algorithm to navigate the maze, using a table of action propensities M with softmax action selection as actor, and a learned state-value function as critic\n"
   ]
  },
  {
   "cell_type": "code",
   "execution_count": 55,
   "metadata": {},
   "outputs": [],
   "source": [
    "from tqdm import tqdm\n",
    "\n",
    "\n",
    "def softmax(x: np.ndarray) -> np.ndarray:\n",
    "    exp = np.exp(x)\n",
    "    return exp / exp.sum()\n",
    "\n",
    "\n",
    "def normal_start() -> int:\n",
    "    \"\"\"returns the index of the start state\n",
    "\n",
    "    Returns:\n",
    "        int: state index\n",
    "    \"\"\"\n",
    "    # suggested encoding of 2D location onto states\n",
    "    state = state2int(np.array(start))\n",
    "    return state\n",
    "\n",
    "\n",
    "def int2state(state_integer: np.ndarray) -> np.ndarray:\n",
    "    \"\"\"convert an array of integer into an array of 2D coordinates\n",
    "\n",
    "    Args:\n",
    "        state_integer (np.ndarray): integer array (n_samples,)\n",
    "\n",
    "    Returns:\n",
    "        np.ndarray: coordinate array (n_samples, 2)\n",
    "    \"\"\"\n",
    "    row = state_integer // maze.shape[1]\n",
    "    column = state_integer - (maze.shape[1] * row)\n",
    "    coords = np.stack([row, column]).T\n",
    "    return coords\n",
    "\n",
    "\n",
    "def state2int(state: np.ndarray) -> np.ndarray:\n",
    "    \"\"\"convert 2D coordinates to integer array\n",
    "\n",
    "    Args:\n",
    "        state (np.ndarray): (2, n_samples)\n",
    "\n",
    "    Returns:\n",
    "        np.ndarray: (n_samples,)\n",
    "    \"\"\"\n",
    "    state = state[0] * maze.shape[1] + state[1]\n",
    "    return state\n",
    "\n",
    "def get_valid_action_mask(state: np.ndarray) -> np.ndarray:\n",
    "    \"\"\"returns binary mask which action you can take and which not.\n",
    "    1 means you can move there 0 you can not\n",
    "\n",
    "    Args:\n",
    "        state (np.ndarray): 2D state coordinates (x, y)\n",
    "\n",
    "    Returns:\n",
    "        np.ndarray: (4,) binary mask\n",
    "    \"\"\"\n",
    "    possible_moves = np.array([[-1, 0], [1, 0], [0, -1], [0, 1]], dtype=int)\n",
    "    move_options = state[None] + possible_moves\n",
    "    # remove those moves which run into a barrier\n",
    "    move_options = 1 - maze[*move_options.T]\n",
    "    return move_options\n",
    "\n",
    "\n",
    "def actor_critic(\n",
    "    state_representation,\n",
    "    n_steps,\n",
    "    alpha,\n",
    "    gamma,\n",
    "    n_episodes,\n",
    "    update_sr=False,\n",
    "    start_func=normal_start,\n",
    "    v_init=0,\n",
    "):\n",
    "    # implement the actor-critic algorithm to learn to navigate the maze\n",
    "    # state_representation is a matrix of size n_states by n_states, giving us the representation for each, which is either a 1-hot vector\n",
    "    # # (so e.g. state_representation[15] is a vector of size n_states which is 0 everywhere, except 1 at index 15), or the SR for each state\n",
    "    # n_steps is the number of actions in each episode before it gets cut off, an episode also ends when the agent reaches the goal\n",
    "    # alpha and gamma are the learning rate and discount factor respectively\n",
    "    # n_episodes is the number of episodes to train the agent\n",
    "    # update_sr is for exercise part 3, when you want to update the SR after each episode\n",
    "    # start_func allows you to specify a different starting state, if desired\n",
    "    n_states = len(state_representation)\n",
    "    # initialize M-table... table of action properties -> those are the base for the action for each state -> (base of Q function)\n",
    "    M = np.ones((n_states, 4), dtype=float) / 4\n",
    "    # M = np.ones_like(state_representation, dtype=float)\n",
    "\n",
    "    # initialize state-value function\n",
    "    V_weights = v_init * np.ones(n_states)\n",
    "\n",
    "    earned_rewards = np.zeros(n_episodes)\n",
    "    possible_moves = np.array([[-1, 0], [1, 0], [0, -1], [0, 1]], dtype=int)\n",
    "    \n",
    "    # iterate over episodes\n",
    "    for episode_idx in tqdm(range(n_episodes)):\n",
    "        # initializations\n",
    "        trajectory = np.zeros(n_steps, dtype=int)\n",
    "\n",
    "        state = start_func()\n",
    "        discount = 1\n",
    "        # go until goal is reached\n",
    "        for t in range(n_steps):\n",
    "            trajectory[t] = state\n",
    "            # act and learn (update both M and V_weights)\n",
    "            state_coords = int2state(state)\n",
    "            action_mask = get_valid_action_mask(state_coords)\n",
    "\n",
    "            action_logits = M[state]\n",
    "            action_logits[action_mask == 0] = -np.inf\n",
    "            action_distr = softmax(action_logits)\n",
    "\n",
    "            action = possible_moves[np.random.choice(4, p=action_distr)]\n",
    "            next_state_coords = state_coords + action\n",
    "            next_state = state2int(next_state_coords)\n",
    "\n",
    "            reward = 0\n",
    "            current_value = state_representation[state] @ V_weights\n",
    "            next_value = state_representation[next_state] @ V_weights\n",
    "            if next_state == goal_state:\n",
    "                reward = goal_value\n",
    "                earned_rewards[episode_idx] += discount * reward\n",
    "                next_value = 0\n",
    "            \n",
    "            delta = reward + gamma * next_value - current_value\n",
    "\n",
    "            V_weights += alpha * delta * state_representation[state]\n",
    "            log_grad = -action_distr\n",
    "            log_grad[action] += 1\n",
    "            M[state] += alpha * discount * delta * log_grad \n",
    "\n",
    "            # check if goal is reached\n",
    "            if next_state == goal_state:\n",
    "                trajectory = trajectory[: t + 1]\n",
    "                break\n",
    "\n",
    "            state = next_state\n",
    "            discount *= gamma\n",
    "\n",
    "        if update_sr:\n",
    "            # state_representation = learn_from_traj(\n",
    "            #     state_representation, trajectory, gamma, alpha\n",
    "            # )\n",
    "            pass\n",
    "\n",
    "    return M, V_weights, earned_rewards"
   ]
  },
  {
   "cell_type": "code",
   "execution_count": null,
   "metadata": {},
   "outputs": [],
   "source": [
    "# One part to the solution of exercise part 3, if you want to update the SR after each episode\n",
    "def learn_from_traj(succ_repr, trajectory, gamma=0.98, alpha=0.05):\n",
    "    # Write a function to update a given successor representation (for the state at which the trajectory starts) using an example trajectory\n",
    "    # using discount factor gamma and learning rate alpha\n",
    "\n",
    "    observed = np.zeros_like(succ_repr)\n",
    "\n",
    "    for i, state in enumerate(trajectory):\n",
    "        observed[state] += gamma ** i\n",
    "\n",
    "    succ_repr += alpha * (observed - succ_repr)\n",
    "\n",
    "    # return the updated successor representation\n",
    "    return succ_repr"
   ]
  },
  {
   "cell_type": "markdown",
   "metadata": {},
   "source": [
    "# Part 1"
   ]
  },
  {
   "cell_type": "code",
   "execution_count": 57,
   "metadata": {},
   "outputs": [
    {
     "name": "stderr",
     "output_type": "stream",
     "text": [
      "100%|██████████| 1000/1000 [00:15<00:00, 65.62it/s]\n"
     ]
    },
    {
     "data": {
      "image/png": "[encoded data removed]",
      "text/plain": [
       "<Figure size 640x480 with 1 Axes>"
      ]
     },
     "metadata": {},
     "output_type": "display_data"
    },
    {
     "data": {
      "image/png": "[encoded data removed]",
      "text/plain": [
       "<Figure size 640x480 with 1 Axes>"
      ]
     },
     "metadata": {},
     "output_type": "display_data"
    }
   ],
   "source": [
    "state_repr = np.eye(len(transitions))\n",
    "M, V, earned_rewards = actor_critic(state_repr, n_steps=300, alpha=0.05, gamma=0.99, n_episodes=1000)\n",
    "# plot state-value function\n",
    "plot_maze(maze, start, goal)\n",
    "plt.imshow(V.reshape(maze.shape), cmap='hot', alpha=0.8)\n",
    "plt.show()\n",
    "\n",
    "plt.plot(earned_rewards)\n",
    "plt.show()\n"
   ]
  },
  {
   "cell_type": "markdown",
   "metadata": {},
   "source": [
    "\n",
    "# Part 2, now the same for an SR representation\n"
   ]
  },
  {
   "cell_type": "code",
   "execution_count": 9,
   "metadata": {},
   "outputs": [
    {
     "name": "stderr",
     "output_type": "stream",
     "text": [
      "/tmp/ipykernel_5753/2572442783.py:21: RuntimeWarning: invalid value encountered in divide\n",
      "  transitions /= transitions.sum(axis=1, keepdims=True)\n",
      "100%|██████████| 1000/1000 [00:10<00:00, 93.83it/s]\n"
     ]
    },
    {
     "data": {
      "image/png": "[encoded data removed]",
      "text/plain": [
       "<Figure size 640x480 with 1 Axes>"
      ]
     },
     "metadata": {},
     "output_type": "display_data"
    },
    {
     "data": {
      "image/png": "[encoded data removed]",
      "text/plain": [
       "<Figure size 640x480 with 1 Axes>"
      ]
     },
     "metadata": {},
     "output_type": "display_data"
    }
   ],
   "source": [
    "M, V, earned_rewards = actor_critic(analytical_state_repr, n_steps=300, alpha=0.05, gamma=0.99, n_episodes=1000)\n",
    "\n",
    "# plot state-value function\n",
    "plot_maze(maze)\n",
    "plt.imshow(V.reshape((9, 13)), cmap='hot')\n",
    "plt.show()\n",
    "\n",
    "plt.plot(earned_rewards)\n",
    "plt.show()\n"
   ]
  },
  {
   "cell_type": "markdown",
   "metadata": {},
   "source": [
    "# Part 3"
   ]
  },
  {
   "cell_type": "code",
   "execution_count": 10,
   "metadata": {},
   "outputs": [
    {
     "data": {
      "text/plain": [
       "numpy.float64"
      ]
     },
     "execution_count": 10,
     "metadata": {},
     "output_type": "execute_result"
    }
   ],
   "source": [
    "type(np.float64(43))"
   ]
  },
  {
   "cell_type": "code",
   "execution_count": 11,
   "metadata": {},
   "outputs": [
    {
     "name": "stderr",
     "output_type": "stream",
     "text": [
      "/tmp/ipykernel_5753/2572442783.py:21: RuntimeWarning: invalid value encountered in divide\n",
      "  transitions /= transitions.sum(axis=1, keepdims=True)\n",
      " 26%|██▌       | 261/1000 [00:02<00:05, 134.12it/s]/tmp/ipykernel_5753/1071561794.py:61: RuntimeWarning: overflow encountered in matmul\n",
      "  next_value = state_representation[next_state] @ V_weights if next_state != goal_state else 0\n",
      "/tmp/ipykernel_5753/1071561794.py:72: RuntimeWarning: invalid value encountered in multiply\n",
      "  M = M + alpha * delta * np.log(action)[None]\n",
      " 27%|██▋       | 272/1000 [00:02<00:05, 123.69it/s]\n"
     ]
    },
    {
     "ename": "ValueError",
     "evalue": "probabilities contain NaN",
     "output_type": "error",
     "traceback": [
      "\u001b[0;31m---------------------------------------------------------------------------\u001b[0m",
      "\u001b[0;31mValueError\u001b[0m                                Traceback (most recent call last)",
      "Cell \u001b[0;32mIn[11], line 11\u001b[0m\n\u001b[1;32m      7\u001b[0m     \u001b[38;5;28;01mreturn\u001b[39;00m np\u001b[38;5;241m.\u001b[39mrandom\u001b[38;5;241m.\u001b[39mchoice(\u001b[38;5;28mlen\u001b[39m(p), p\u001b[38;5;241m=\u001b[39mp)\n\u001b[1;32m     10\u001b[0m state_repr \u001b[38;5;241m=\u001b[39m np\u001b[38;5;241m.\u001b[39meye(\u001b[38;5;28mlen\u001b[39m(transitions))\n\u001b[0;32m---> 11\u001b[0m M, V, earned_rewards \u001b[38;5;241m=\u001b[39m \u001b[43mactor_critic\u001b[49m\u001b[43m(\u001b[49m\n\u001b[1;32m     12\u001b[0m \u001b[43m    \u001b[49m\u001b[43manalytical_state_repr\u001b[49m\u001b[43m,\u001b[49m\n\u001b[1;32m     13\u001b[0m \u001b[43m    \u001b[49m\u001b[38;5;241;43m300\u001b[39;49m\u001b[43m,\u001b[49m\n\u001b[1;32m     14\u001b[0m \u001b[43m    \u001b[49m\u001b[38;5;241;43m0.05\u001b[39;49m\u001b[43m,\u001b[49m\n\u001b[1;32m     15\u001b[0m \u001b[43m    \u001b[49m\u001b[38;5;241;43m0.99\u001b[39;49m\u001b[43m,\u001b[49m\n\u001b[1;32m     16\u001b[0m \u001b[43m    \u001b[49m\u001b[38;5;241;43m1000\u001b[39;49m\u001b[43m,\u001b[49m\n\u001b[1;32m     17\u001b[0m \u001b[43m    \u001b[49m\u001b[43mupdate_sr\u001b[49m\u001b[38;5;241;43m=\u001b[39;49m\u001b[38;5;28;43;01mTrue\u001b[39;49;00m\u001b[43m,\u001b[49m\n\u001b[1;32m     18\u001b[0m \u001b[43m    \u001b[49m\u001b[43mstart_func\u001b[49m\u001b[38;5;241;43m=\u001b[39;49m\u001b[43mrandom_start\u001b[49m\u001b[43m,\u001b[49m\n\u001b[1;32m     19\u001b[0m \u001b[43m)\u001b[49m\n\u001b[1;32m     20\u001b[0m \u001b[38;5;66;03m# plot state-value function\u001b[39;00m\n\u001b[1;32m     21\u001b[0m plot_maze(maze)\n",
      "Cell \u001b[0;32mIn[7], line 54\u001b[0m, in \u001b[0;36mactor_critic\u001b[0;34m(state_representation, n_steps, alpha, gamma, n_episodes, update_sr, start_func, v_init)\u001b[0m\n\u001b[1;32m     52\u001b[0m next_state_distr \u001b[38;5;241m=\u001b[39m transitions[state] \u001b[38;5;241m*\u001b[39m action\n\u001b[1;32m     53\u001b[0m next_state_distr \u001b[38;5;241m=\u001b[39m softmax(next_state_distr)\n\u001b[0;32m---> 54\u001b[0m next_state \u001b[38;5;241m=\u001b[39m \u001b[43mnp\u001b[49m\u001b[38;5;241;43m.\u001b[39;49m\u001b[43mrandom\u001b[49m\u001b[38;5;241;43m.\u001b[39;49m\u001b[43mchoice\u001b[49m\u001b[43m(\u001b[49m\u001b[43mn_states\u001b[49m\u001b[43m,\u001b[49m\u001b[43m \u001b[49m\u001b[43mp\u001b[49m\u001b[38;5;241;43m=\u001b[39;49m\u001b[43mnext_state_distr\u001b[49m\u001b[43m)\u001b[49m\n\u001b[1;32m     56\u001b[0m reward \u001b[38;5;241m=\u001b[39m goal_value \u001b[38;5;28;01mif\u001b[39;00m next_state \u001b[38;5;241m==\u001b[39m goal_state \u001b[38;5;28;01melse\u001b[39;00m \u001b[38;5;241m0\u001b[39m\n\u001b[1;32m     57\u001b[0m earned_rewards[episode_idx] \u001b[38;5;241m+\u001b[39m\u001b[38;5;241m=\u001b[39m reward\n",
      "File \u001b[0;32mnumpy/random/mtrand.pyx:971\u001b[0m, in \u001b[0;36mnumpy.random.mtrand.RandomState.choice\u001b[0;34m()\u001b[0m\n",
      "\u001b[0;31mValueError\u001b[0m: probabilities contain NaN"
     ]
    }
   ],
   "source": [
    "def random_start():\n",
    "    # define yourself a function to return a random (non-wall) starting state to pass into the actor_critic function\n",
    "\n",
    "    mask = transitions.sum(axis=1)\n",
    "    mask[mask == 0] = -np.inf\n",
    "    p = softmax(mask)\n",
    "    return np.random.choice(len(p), p=p)\n",
    "\n",
    "\n",
    "state_repr = np.eye(len(transitions))\n",
    "M, V, earned_rewards = actor_critic(\n",
    "    analytical_state_repr,\n",
    "    300,\n",
    "    0.05,\n",
    "    0.99,\n",
    "    1000,\n",
    "    update_sr=True,\n",
    "    start_func=random_start,\n",
    ")\n",
    "# plot state-value function\n",
    "plot_maze(maze)\n",
    "plt.imshow(V.reshape((9, 13)), cmap=\"hot\")\n",
    "plt.show()\n",
    "\n",
    "plt.plot(earned_rewards)\n",
    "plt.show()"
   ]
  },
  {
   "cell_type": "code",
   "execution_count": null,
   "metadata": {},
   "outputs": [],
   "source": []
  },
  {
   "cell_type": "markdown",
   "metadata": {},
   "source": [
    "plot the SR of some states after this learning, also anything else you want"
   ]
  },
  {
   "cell_type": "code",
   "execution_count": 12,
   "metadata": {},
   "outputs": [
    {
     "ename": "NameError",
     "evalue": "name 'TODO' is not defined",
     "output_type": "error",
     "traceback": [
      "\u001b[0;31m---------------------------------------------------------------------------\u001b[0m",
      "\u001b[0;31mNameError\u001b[0m                                 Traceback (most recent call last)",
      "Cell \u001b[0;32mIn[12], line 2\u001b[0m\n\u001b[1;32m      1\u001b[0m \u001b[38;5;66;03m# plot the SR of some states after this learning, also anything else you want\u001b[39;00m\n\u001b[0;32m----> 2\u001b[0m \u001b[43mTODO\u001b[49m\n",
      "\u001b[0;31mNameError\u001b[0m: name 'TODO' is not defined"
     ]
    }
   ],
   "source": [
    "# plot the SR of some states after this learning, also anything else you want\n",
    "TODO"
   ]
  },
  {
   "cell_type": "markdown",
   "metadata": {},
   "source": [
    "# Part 4"
   ]
  },
  {
   "cell_type": "code",
   "execution_count": null,
   "metadata": {},
   "outputs": [],
   "source": [
    "TODO\n",
    "goal = (5, 5)\n",
    "goal_state = goal[0]*maze.shape[1] + goal[1]\n",
    "for i in range(20):\n",
    "\n",
    "    # run with random walk SR\n",
    "    M, V, earned_rewards_clamped = actor_critic(TODO, 300, 0.05, 0.99, 400)\n",
    "    TODO\n",
    "\n",
    "    # run with updated SR\n",
    "    M, V, earned_rewards_relearned = actor_critic(TODO, 300, 0.05, 0.99, 400)\n",
    "    TODO"
   ]
  },
  {
   "cell_type": "markdown",
   "metadata": {},
   "source": [
    "plot the performance averages of the two types of learners\n"
   ]
  },
  {
   "cell_type": "code",
   "execution_count": null,
   "metadata": {},
   "outputs": [],
   "source": []
  },
  {
   "cell_type": "markdown",
   "metadata": {},
   "source": [
    "# Part 5"
   ]
  },
  {
   "cell_type": "code",
   "execution_count": null,
   "metadata": {},
   "outputs": [],
   "source": [
    "# reset goal\n",
    "goal = (1, 1)\n",
    "goal_state = goal[0]*maze.shape[1] + goal[1]\n",
    "\n",
    "# run some learners with different value weight w initializations\n",
    "\n",
    "TODO\n",
    "for v_inits in [TODO]:\n",
    "    TODO\n",
    "    for i in range(12):\n",
    "\n",
    "        M, V, earned_rewards = actor_critic(TODO, 300, 0.05, 0.99, 400)\n",
    "        TODO\n",
    "        M, V, earned_rewards = actor_critic(TODO, 300, 0.05, 0.99, 400)\n",
    "        TODO\n",
    "\n",
    "# plot the resulting learning curves"
   ]
  }
 ],
 "metadata": {
  "kernelspec": {
   "display_name": "exercises",
   "language": "python",
   "name": "python3"
  },
  "language_info": {
   "codemirror_mode": {
    "name": "ipython",
    "version": 3
   },
   "file_extension": ".py",
   "mimetype": "text/x-python",
   "name": "python",
   "nbconvert_exporter": "python",
   "pygments_lexer": "ipython3",
   "version": "3.12.7"
  }
 },
 "nbformat": 4,
 "nbformat_minor": 2
}
