{
 "cells": [
  {
   "cell_type": "code",
   "execution_count": 1,
   "id": "initial_id",
   "metadata": {
    "collapsed": true,
    "ExecuteTime": {
     "end_time": "2024-12-06T19:44:07.734717Z",
     "start_time": "2024-12-06T19:44:07.458780Z"
    }
   },
   "outputs": [],
   "source": [
    "import pandas as pd\n",
    "import numpy as np\n",
    "from scipy.optimize import minimize"
   ]
  },
  {
   "cell_type": "code",
   "execution_count": 2,
   "outputs": [],
   "source": [
    "def softmax(x):\n",
    "    exp = np.exp(x)\n",
    "    return exp / np.sum(exp)"
   ],
   "metadata": {
    "collapsed": false,
    "ExecuteTime": {
     "end_time": "2024-12-06T19:44:07.742644Z",
     "start_time": "2024-12-06T19:44:07.735624Z"
    }
   },
   "id": "24014bdd60685cda"
  },
  {
   "cell_type": "code",
   "execution_count": 3,
   "outputs": [],
   "source": [
    "def rescorla_wagner(q_val, epsilon, reward):\n",
    "    return q_val + epsilon * (reward - q_val)"
   ],
   "metadata": {
    "collapsed": false,
    "ExecuteTime": {
     "end_time": "2024-12-06T19:44:07.742757Z",
     "start_time": "2024-12-06T19:44:07.737282Z"
    }
   },
   "id": "5f5f7ad3ad10e687"
  },
  {
   "cell_type": "code",
   "execution_count": 4,
   "outputs": [],
   "source": [
    "def reward(r_t, rho_rew, rho_pun):\n",
    "    if r_t > 0: return rho_rew\n",
    "    if r_t < 0: return -rho_pun\n",
    "    return 0"
   ],
   "metadata": {
    "collapsed": false,
    "ExecuteTime": {
     "end_time": "2024-12-06T19:44:07.742810Z",
     "start_time": "2024-12-06T19:44:07.739524Z"
    }
   },
   "id": "6fd92f94f4c09692"
  },
  {
   "cell_type": "code",
   "execution_count": 5,
   "outputs": [],
   "source": [
    "def log_likelihood(cues, actions, rewards, epsilon, rho_rew, rho_pun):\n",
    "    n_stimuli = len(set(cues))\n",
    "    n_actions = len(set(actions))\n",
    "\n",
    "    q_vals = np.zeros((n_stimuli, n_actions))\n",
    "\n",
    "    log_likelihood = 0\n",
    "\n",
    "    for t, a_t in enumerate(actions):\n",
    "        s_t = cues[t] - 1\n",
    "        r_t = reward(rewards[t], rho_rew, rho_pun)\n",
    "\n",
    "        probs = softmax(q_vals[s_t])\n",
    "        log_likelihood += np.log(probs[a_t])\n",
    "\n",
    "        # Update the Q-values using Rescorla-Wagner\n",
    "        q_vals[s_t, a_t] = rescorla_wagner(\n",
    "            q_val = q_vals[s_t, a_t],\n",
    "            epsilon = epsilon,\n",
    "            reward = r_t\n",
    "        )\n",
    "\n",
    "    return log_likelihood"
   ],
   "metadata": {
    "collapsed": false,
    "ExecuteTime": {
     "end_time": "2024-12-06T19:44:07.746461Z",
     "start_time": "2024-12-06T19:44:07.742964Z"
    }
   },
   "id": "653f7a0e460985d2"
  },
  {
   "cell_type": "code",
   "execution_count": 6,
   "outputs": [],
   "source": [
    "data = pd.read_csv(\"gen_data.csv\")"
   ],
   "metadata": {
    "collapsed": false,
    "ExecuteTime": {
     "end_time": "2024-12-06T19:44:07.753677Z",
     "start_time": "2024-12-06T19:44:07.745377Z"
    }
   },
   "id": "ffe3fadf32571c7d"
  },
  {
   "cell_type": "code",
   "execution_count": 7,
   "outputs": [],
   "source": [
    "def loss(params, cues, actions, rewards):\n",
    "    epsilon, rho_rew, rho_pun = params\n",
    "    return -log_likelihood(cues, actions, rewards, epsilon, rho_rew, rho_pun)"
   ],
   "metadata": {
    "collapsed": false,
    "ExecuteTime": {
     "end_time": "2024-12-06T19:44:07.753774Z",
     "start_time": "2024-12-06T19:44:07.749035Z"
    }
   },
   "id": "3e5888b2146ccf6"
  },
  {
   "cell_type": "code",
   "execution_count": 8,
   "outputs": [],
   "source": [
    "epsilon_bounds = (0.0000001, 0.99999)\n",
    "beta_bounds = (0.0001, 9.9999)"
   ],
   "metadata": {
    "collapsed": false,
    "ExecuteTime": {
     "end_time": "2024-12-06T19:44:07.753809Z",
     "start_time": "2024-12-06T19:44:07.751088Z"
    }
   },
   "id": "5e4029f74fe48599"
  },
  {
   "cell_type": "code",
   "execution_count": 9,
   "outputs": [],
   "source": [
    "min_loss = []\n",
    "\n",
    "for subject_id in data.ID.unique():\n",
    "    subject = data[ data.ID == subject_id ]\n",
    "\n",
    "    cues = subject.cue.tolist()\n",
    "    actions = subject.pressed.tolist()\n",
    "    rewards = subject.outcome.tolist()\n",
    "\n",
    "    res = minimize(\n",
    "        fun = loss,\n",
    "        x0 = [0.5, 5, 5],\n",
    "        bounds = [epsilon_bounds, beta_bounds, beta_bounds],\n",
    "        args = (cues, actions, rewards),\n",
    "        method = \"Nelder-Mead\"\n",
    "    )\n",
    "\n",
    "    min_loss.append(res.fun)"
   ],
   "metadata": {
    "collapsed": false,
    "ExecuteTime": {
     "end_time": "2024-12-06T19:44:10.797662Z",
     "start_time": "2024-12-06T19:44:07.754883Z"
    }
   },
   "id": "2ffc1cc6b012618d"
  },
  {
   "cell_type": "code",
   "execution_count": 10,
   "outputs": [
    {
     "data": {
      "text/plain": "2862.9286280091674"
     },
     "execution_count": 10,
     "metadata": {},
     "output_type": "execute_result"
    }
   ],
   "source": [
    "np.sum(min_loss)"
   ],
   "metadata": {
    "collapsed": false,
    "ExecuteTime": {
     "end_time": "2024-12-06T19:44:10.805638Z",
     "start_time": "2024-12-06T19:44:10.799539Z"
    }
   },
   "id": "50720ca995b928fe"
  }
 ],
 "metadata": {
  "kernelspec": {
   "display_name": "Python 3",
   "language": "python",
   "name": "python3"
  },
  "language_info": {
   "codemirror_mode": {
    "name": "ipython",
    "version": 2
   },
   "file_extension": ".py",
   "mimetype": "text/x-python",
   "name": "python",
   "nbconvert_exporter": "python",
   "pygments_lexer": "ipython2",
   "version": "2.7.6"
  }
 },
 "nbformat": 4,
 "nbformat_minor": 5
}
