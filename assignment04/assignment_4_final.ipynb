{
 "cells": [
  {
   "cell_type": "code",
   "execution_count": 86,
   "id": "initial_id",
   "metadata": {
    "collapsed": true,
    "ExecuteTime": {
     "end_time": "2024-12-07T12:29:51.357313Z",
     "start_time": "2024-12-07T12:29:51.341915Z"
    }
   },
   "outputs": [],
   "source": [
    "import pandas as pd\n",
    "import numpy as np\n",
    "import matplotlib.pyplot as plt\n",
    "from scipy.optimize import minimize\n",
    "from abc import ABC, abstractmethod"
   ]
  },
  {
   "cell_type": "markdown",
   "source": [
    "# Model fitting and Pavlovian biases. Pavlovian-instrumental interactions\n",
    "\n",
    "Download the dataset .csv from Slack. It contains the data of 10 subjects (see column \"ID\" for the subject identifier), performing a go/no-go task, each for 600 trials. The column \"cue\" informs you about the presented trial type (see the \"cue mapping\" variable in our template). The column \"pressed\" contains the response of the participant (0 is no-go, 1 is go) and \"outcome\" contains whether a reward was delivered (1), nothing was delivered (0), a punishment was given (-1).\n",
    "\n",
    "## Part 1\n",
    "\n",
    "Recreate figure 2E of the paper \"Go and no-go learning in reward and punishment: Interactions between affect and effect\" with the data you have. Only the bar plots are important here, no need for error bars or significance tests."
   ],
   "metadata": {
    "collapsed": false
   },
   "id": "d936675e74b4efc8"
  },
  {
   "cell_type": "code",
   "execution_count": 87,
   "outputs": [],
   "source": [
    "data = pd.read_csv(\"gen_data.csv\")\n",
    "\n",
    "# Go+ = Go to win\n",
    "# Go- = go to avoid losing\n",
    "# NoGo+ = don't go to win\n",
    "# NoGo- = don't go to avoid losing\n",
    "cue_mapping = { 1: \"Go+\", 2: \"Go-\", 3: \"NoGo+\", 4: \"NoGo-\" }\n",
    "\n",
    "data[\"CueFactor\"] = [cue_mapping.get(cue) for cue in data.cue]\n",
    "data[\"CueFactor\"] = data[\"CueFactor\"].astype(\"category\")"
   ],
   "metadata": {
    "collapsed": false,
    "ExecuteTime": {
     "end_time": "2024-12-07T12:29:52.345185Z",
     "start_time": "2024-12-07T12:29:52.334779Z"
    }
   },
   "id": "c6dbd78a925579ad"
  },
  {
   "cell_type": "code",
   "execution_count": 88,
   "outputs": [],
   "source": [
    "# Determine if each trial is correct or not\n",
    "data[\"Correct\"] = False\n",
    "for i, trial in data.iterrows():\n",
    "    if trial.CueFactor == \"Go+\" or trial.CueFactor == \"Go-\":\n",
    "        data.loc[i, \"Correct\"] = trial.pressed == 1\n",
    "\n",
    "    if trial.CueFactor == \"NoGo+\" or trial.CueFactor == \"NoGo-\":\n",
    "        data.loc[i, \"Correct\"] = trial.pressed != 1\n",
    "\n",
    "# Compute the average of correct values for each cue\n",
    "cue_means = data.groupby([\"ID\", \"CueFactor\"], observed = False)[\"Correct\"].mean()"
   ],
   "metadata": {
    "collapsed": false,
    "ExecuteTime": {
     "end_time": "2024-12-07T12:29:53.671135Z",
     "start_time": "2024-12-07T12:29:53.048365Z"
    }
   },
   "id": "5b067c7477939ac5"
  },
  {
   "cell_type": "code",
   "execution_count": 89,
   "outputs": [],
   "source": [
    "means = []\n",
    "cues = []\n",
    "for cue in data.CueFactor.unique():\n",
    "    cue_data = cue_means.xs(cue, level = \"CueFactor\")\n",
    "    means.append(np.mean(cue_data))\n",
    "    cues.append(cue)"
   ],
   "metadata": {
    "collapsed": false,
    "ExecuteTime": {
     "end_time": "2024-12-07T12:29:54.297080Z",
     "start_time": "2024-12-07T12:29:54.286423Z"
    }
   },
   "id": "90bcde70611ec4bd"
  },
  {
   "cell_type": "code",
   "execution_count": 90,
   "outputs": [
    {
     "data": {
      "text/plain": "<Figure size 640x480 with 1 Axes>",
      "image/png": "[encoded data removed]"
     },
     "metadata": {},
     "output_type": "display_data"
    }
   ],
   "source": [
    "plt.bar(cues, means)\n",
    "plt.ylabel(\"Probability\\ncorrect\")\n",
    "plt.ylim(0, 1)\n",
    "plt.xticks(\n",
    "    ticks = cues,\n",
    "    labels = [\n",
    "        \"Go to\\nWin\",\n",
    "        \"Go to\\nAvoid\",\n",
    "        \"Nogo to\\nWin\",\n",
    "        \"Nogo to\\nAvoid\"\n",
    "    ]\n",
    ")\n",
    "plt.show()"
   ],
   "metadata": {
    "collapsed": false,
    "ExecuteTime": {
     "end_time": "2024-12-07T12:29:54.914177Z",
     "start_time": "2024-12-07T12:29:54.883608Z"
    }
   },
   "id": "d3586dc1995dc3a2"
  },
  {
   "cell_type": "markdown",
   "source": [
    "## Part 2\n",
    "\n",
    "Program the log likelihood functions of the models 1 to 7 (including) presented in \"Disentangling the Roles of Approach, Activation and Valence in Instrumental and Pavlovian Responding\" (see Table 2 of that paper for the model numbering and relevant parameters). The paper uses these parameters\n",
    "\n",
    "- learning rate $\\epsilon$\n",
    "- feedback sensitivity $\\beta$\n",
    "– the general feedback sensitivity $\\beta$ can be replaced by separate reward and punishment sensitivities $\\rho$ (we don’t include a sensitivity for omission)\n",
    "- there can be different learning rates $\\epsilon$ for reward, feedback omission, and punishment (the paper doesn't make use of omissions, so they use only two learning rates, you will need three)\n",
    "- there can be a general bias to approach $bias_{app}$, and a general bias to withhold responding $bias_{wth}$\n"
   ],
   "metadata": {
    "collapsed": false
   },
   "id": "1aec142c016601eb"
  },
  {
   "cell_type": "markdown",
   "source": [
    "### General model\n",
    "\n",
    "$s^{\\mathcal{I}}_t$ - the instrumental stimulus, presented at trial $t$ (one out of four: Go+, Go-, NoGo+, and NoGo-).\n",
    "\n",
    "$a_t$ - the action (choice) at trial $t$. The action can be either go (1) or no-go (0).\n",
    "\n",
    "$r_t$ - the reinforcement obtained, $r_t \\in \\{-1, 0, 1\\}$ where $-1$ marks a punishment, $0$ marks no reinforcement (feedback omission), and $-1$ marks a reward.\n",
    "\n",
    "The probability of action $a_t$ in the presence of stimulus $s^{\\mathcal{I}}_t$ is a standard probabilistic function:\n",
    "\n",
    "$$\n",
    "p(a_t | $s^{\\mathcal{I}}_t$) = \\frac{exp(\\mathcal{W}^{\\mathcal{I}} ($s^{\\mathcal{I}}_t$, a_t))}{\\sum_{a'} exp(\\mathcal{W}^{\\mathcal{I}} ($s^{\\mathcal{I}}_t$, a'))}\n",
    "$$\n",
    "\n",
    "Here, $\\mathcal{W}^{\\mathcal{I}}$ is the instrumental weight of action $a_t$:\n",
    "\n",
    "$$\n",
    "\\mathcal{W}^{\\mathcal{I}}(s^{\\mathcal{I}}_t, a_t) = \\mathcal{Q}(s^{\\mathcal{I}}_t, a_t) + b(a_t)\n",
    "$$\n",
    "\n",
    "The variable $b(a_t)$ can take on value $bias_{wth}$ for withhold actions, or $bias_{app}$ for approach actions.\n",
    "\n",
    "The Q-values are updated according to a Rescorla-Wagner-like rule with a fixed learning rate $\\epsilon$. The immediate, intrinsic, value of the reinforcements may have a different meaning for different subjects. To measure this effect, two further parameters are added: $\\rho_{rew}$ for the reward sensitivity and $\\rho_{pun}$ for the punishment sensitivity. Update equation for the expectations is thus:\n",
    "\n",
    "$$\n",
    "\\mathcal{Q}_{t+1}(s^{\\mathcal{I}}_t, a_t) = \\mathcal{Q}_{t}(s^{\\mathcal{I}}_t, a_t) + \\epsilon (\\mathcal{R}_t - \\mathcal{Q}_{t}(s^{\\mathcal{I}}_t, a_t))\n",
    "$$\n",
    "\n",
    "$$\n",
    "\\mathcal{R}_t =\\begin{cases}\n",
    "      \\rho_{rew} & \\text{ if }\\ r_t > 0 \\\\\n",
    "      \\rho_{pun} & \\text{ if }\\ r_t < 0 \\\\\n",
    "    \\end{cases}\n",
    "$$\n"
   ],
   "metadata": {
    "collapsed": false
   },
   "id": "a175491811c36233"
  },
  {
   "cell_type": "code",
   "execution_count": 21,
   "outputs": [],
   "source": [
    "class Model(ABC):\n",
    "    def __init__(self):\n",
    "        # Init model fit bounds\n",
    "        self.epsilon_bounds = (0.0000001, 0.99999)\n",
    "        self.beta_bounds = (0.0001, 9.9999)\n",
    "        self.bias_bounds = (-0.99999, 0.99999)\n",
    "        self.p_bounds = (0.0001, 0.9999)\n",
    "    \n",
    "    @staticmethod\n",
    "    def softmax(x):\n",
    "        exp = np.exp(x)\n",
    "        return exp / np.sum(exp)\n",
    "\n",
    "    @staticmethod\n",
    "    def rescorla_wagner(q_val, epsilon_rew, epsilon_pun, epsilon_omi, reward):\n",
    "        if reward > 0: return q_val + epsilon_rew * (reward - q_val)\n",
    "        if reward < 0: return q_val + epsilon_pun * (reward - q_val)\n",
    "        return q_val + epsilon_omi * (reward - q_val)\n",
    "\n",
    "    @staticmethod\n",
    "    def reward(r_t, rho_rew, rho_pun):\n",
    "        if r_t > 0: return rho_rew\n",
    "        if r_t < 0: return rho_pun\n",
    "        return 0\n",
    "\n",
    "    def log_likelihood(self, cues, actions, rewards, epsilon_rew, epsilon_pun, epsilon_omi, rho_rew, rho_pun, bias_wth, bias_app):\n",
    "        n_stimuli = len(set(cues))\n",
    "        n_actions = len(set(actions))\n",
    "    \n",
    "        q_vals = np.zeros((n_stimuli, n_actions))\n",
    "    \n",
    "        log_likelihood = 0\n",
    "    \n",
    "        for t, a_t in enumerate(actions):\n",
    "            s_t = cues[t] - 1\n",
    "            r_t = self.reward(rewards[t], rho_rew, rho_pun)\n",
    "\n",
    "            qs = q_vals[s_t] + [ bias_wth, bias_app ]\n",
    "    \n",
    "            probs = self.softmax(qs)\n",
    "            log_likelihood += np.log(probs[a_t])\n",
    "    \n",
    "            # Update the Q-values using Rescorla-Wagner\n",
    "            q_vals[s_t, a_t] = self.rescorla_wagner(\n",
    "                q_val = q_vals[s_t, a_t],\n",
    "                epsilon_rew = epsilon_rew,\n",
    "                epsilon_pun = epsilon_pun,\n",
    "                epsilon_omi = epsilon_omi,\n",
    "                reward = r_t\n",
    "            )\n",
    "    \n",
    "        return log_likelihood\n",
    "    \n",
    "    @abstractmethod\n",
    "    def loss(self, params, cues, actions, rewards):\n",
    "        pass\n",
    "    \n",
    "    @abstractmethod\n",
    "    def minimize_loss(self, cues, actions, rewards):\n",
    "        pass\n",
    "    \n",
    "    def fit(self, data):\n",
    "        fit_result = []\n",
    "        \n",
    "        for subject_id in data.ID.unique():\n",
    "            subject_data = data[ data.ID == subject_id ]\n",
    "            subject_data = subject_data.reset_index(drop = True)\n",
    "            \n",
    "            cues = subject_data.cue.tolist()\n",
    "            actions = subject_data.pressed.tolist()\n",
    "            rewards = subject_data.outcome.tolist()\n",
    "            \n",
    "            loss, x = self.minimize_loss(cues, actions, rewards)\n",
    "            \n",
    "            x[\"ID\"] = subject_id\n",
    "            x[\"loss\"] = loss\n",
    "            fit_result.append(x)\n",
    "\n",
    "        fit_result = pd.concat(fit_result)\n",
    "        fit_result.reset_index(drop = True, inplace = True)\n",
    "        \n",
    "        return fit_result"
   ],
   "metadata": {
    "collapsed": false,
    "ExecuteTime": {
     "end_time": "2024-12-07T12:03:31.140089Z",
     "start_time": "2024-12-07T12:03:31.136076Z"
    }
   },
   "id": "549ab08de8bd054c"
  },
  {
   "cell_type": "markdown",
   "source": [
    "### Model 1\n",
    "\n",
    "Model 1 assumes that $-\\rho_{pun} = \\rho_{rew} = \\beta$ and that $bias_{wth} = bias_{app} = 0$."
   ],
   "metadata": {
    "collapsed": false
   },
   "id": "c455a5045830ba40"
  },
  {
   "cell_type": "code",
   "execution_count": 22,
   "outputs": [],
   "source": [
    "class Model1(Model):\n",
    "    def loss(self, params, cues, actions, rewards):\n",
    "        epsilon, beta = params\n",
    "        return -self.log_likelihood(\n",
    "            cues = cues,\n",
    "            actions = actions,\n",
    "            rewards = rewards,\n",
    "            epsilon_rew = epsilon,\n",
    "            epsilon_pun = epsilon,\n",
    "            epsilon_omi = epsilon,\n",
    "            rho_rew = beta,\n",
    "            rho_pun = -beta,\n",
    "            bias_wth = 0,\n",
    "            bias_app = 0\n",
    "        )\n",
    "\n",
    "    def minimize_loss(self, cues, actions, rewards):\n",
    "        result = minimize(\n",
    "            fun = self.loss,\n",
    "            x0 = [0.5, 5],\n",
    "            bounds = [self.epsilon_bounds, self.beta_bounds],\n",
    "            args = (cues, actions, rewards),\n",
    "            method = \"Nelder-Mead\"\n",
    "        )\n",
    "        \n",
    "        fit_params = pd.DataFrame([result.x])\n",
    "        fit_params.columns = [\"epsilon\", \"beta\"]\n",
    "        \n",
    "        return result.fun, fit_params"
   ],
   "metadata": {
    "collapsed": false,
    "ExecuteTime": {
     "end_time": "2024-12-07T12:03:31.861605Z",
     "start_time": "2024-12-07T12:03:31.838861Z"
    }
   },
   "id": "17d027020fbe962d"
  },
  {
   "cell_type": "markdown",
   "source": [
    "### Model 2\n",
    "\n",
    "Model 2 includes separate reward and punishment sensitivities $\\rho_{rew}$ and $\\rho_{pun}$ with no action bias $bias_{wth} = bias_{app} = 0$."
   ],
   "metadata": {
    "collapsed": false
   },
   "id": "5b7dc53d623bb770"
  },
  {
   "cell_type": "code",
   "execution_count": 23,
   "outputs": [],
   "source": [
    "class Model2(Model):\n",
    "    def loss(self, params, cues, actions, rewards):\n",
    "        epsilon, rho_rew, rho_pun = params\n",
    "        return -self.log_likelihood(\n",
    "            cues = cues,\n",
    "            actions = actions,\n",
    "            rewards = rewards,\n",
    "            epsilon_rew = epsilon,\n",
    "            epsilon_pun = epsilon,\n",
    "            epsilon_omi = epsilon,\n",
    "            rho_rew = rho_rew,\n",
    "            rho_pun = -rho_pun,\n",
    "            bias_wth = 0,\n",
    "            bias_app = 0\n",
    "        )\n",
    "\n",
    "    def minimize_loss(self, cues, actions, rewards):\n",
    "        result = minimize(\n",
    "            fun = self.loss,\n",
    "            x0 = [0.5, 5, 5],\n",
    "            bounds = [\n",
    "                self.epsilon_bounds,\n",
    "                self.beta_bounds,\n",
    "                self.beta_bounds\n",
    "            ],\n",
    "            args = (cues, actions, rewards),\n",
    "            method = \"Nelder-Mead\"\n",
    "        )\n",
    "\n",
    "        fit_params = pd.DataFrame([result.x])\n",
    "        fit_params.columns = [\"epsilon\", \"rho_rew\", \"rho_pun\"]\n",
    "        fit_params[\"rho_pun\"] = -fit_params[\"rho_pun\"]\n",
    "\n",
    "        return result.fun, fit_params"
   ],
   "metadata": {
    "collapsed": false,
    "ExecuteTime": {
     "end_time": "2024-12-07T12:03:32.569338Z",
     "start_time": "2024-12-07T12:03:32.552010Z"
    }
   },
   "id": "9f803ac2b52fcaec"
  },
  {
   "cell_type": "markdown",
   "source": [
    "### Model 3\n",
    "\n",
    "Model 3 again assumes $-\\rho_{pun} = \\rho_{rew} = \\beta$, and that $bias_{wth} = bias_{app} = 0$, but allows for three separate learning rates, i.e. $\\epsilon$ is replaced by $\\epsilon_{rew}$ on trials where $r_t = 1$, by $\\epsilon_{pun}$ on trials where $r_t = -1$, and by $\\epsilon_{omi}$ on trials where $r_t = 0$."
   ],
   "metadata": {
    "collapsed": false
   },
   "id": "8760815f6cff6dbd"
  },
  {
   "cell_type": "code",
   "execution_count": 24,
   "outputs": [],
   "source": [
    "class Model3(Model):\n",
    "    def loss(self, params, cues, actions, rewards):\n",
    "        epsilon_rew, epsilon_pun, epsilon_omi, beta = params\n",
    "        return -self.log_likelihood(\n",
    "            cues = cues,\n",
    "            actions = actions,\n",
    "            rewards = rewards,\n",
    "            epsilon_rew = epsilon_rew,\n",
    "            epsilon_pun = epsilon_pun,\n",
    "            epsilon_omi = epsilon_omi,\n",
    "            rho_rew = beta,\n",
    "            rho_pun = -beta,\n",
    "            bias_wth = 0,\n",
    "            bias_app = 0\n",
    "        )\n",
    "\n",
    "    def minimize_loss(self, cues, actions, rewards):\n",
    "        result = minimize(\n",
    "            fun = self.loss,\n",
    "            x0 = [0.5, 0.5, 0.5, 5],\n",
    "            bounds = [\n",
    "                self.epsilon_bounds,\n",
    "                self.epsilon_bounds,\n",
    "                self.epsilon_bounds,\n",
    "                self.beta_bounds,\n",
    "            ],\n",
    "            args = (cues, actions, rewards),\n",
    "            method = \"Nelder-Mead\"\n",
    "        )\n",
    "\n",
    "        fit_params = pd.DataFrame([result.x])\n",
    "        fit_params.columns = [\"epsilon_rew\", \"epsilon_pun\", \"epsilon_omi\", \"beta\"]\n",
    "\n",
    "        return result.fun, fit_params"
   ],
   "metadata": {
    "collapsed": false,
    "ExecuteTime": {
     "end_time": "2024-12-07T12:03:33.275344Z",
     "start_time": "2024-12-07T12:03:33.249037Z"
    }
   },
   "id": "269514632d884203"
  },
  {
   "cell_type": "markdown",
   "source": [
    "### Model 4\n",
    "\n",
    "Model 4 assumes a common learning rate $\\epsilon$ and $-\\rho_{pun} = \\rho_{rew} = \\beta$, but includes action biases for withdrawal actions $bias_{wth}$ and approach actions $bias_{app}$."
   ],
   "metadata": {
    "collapsed": false
   },
   "id": "62be3d63a85dbf78"
  },
  {
   "cell_type": "code",
   "execution_count": 25,
   "outputs": [],
   "source": [
    "class Model4(Model):\n",
    "    def loss(self, params, cues, actions, rewards):\n",
    "        epsilon, beta, bias_app, bias_wth = params\n",
    "        return -self.log_likelihood(\n",
    "            cues = cues,\n",
    "            actions = actions,\n",
    "            rewards = rewards,\n",
    "            epsilon_rew = epsilon,\n",
    "            epsilon_pun = epsilon,\n",
    "            epsilon_omi = epsilon,\n",
    "            rho_rew = beta,\n",
    "            rho_pun = -beta,\n",
    "            bias_wth = bias_wth,\n",
    "            bias_app = bias_app\n",
    "        )\n",
    "\n",
    "    def minimize_loss(self, cues, actions, rewards):\n",
    "        result = minimize(\n",
    "            fun = self.loss,\n",
    "            x0 = [0.5, 5, 0, 0],\n",
    "            bounds = [\n",
    "                self.epsilon_bounds,\n",
    "                self.beta_bounds,\n",
    "                self.bias_bounds,\n",
    "                self.bias_bounds,\n",
    "            ],\n",
    "            args = (cues, actions, rewards),\n",
    "            method = \"Nelder-Mead\"\n",
    "        )\n",
    "\n",
    "        fit_params = pd.DataFrame([result.x])\n",
    "        fit_params.columns = [\"epsilon\", \"beta\", \"bias_app\", \"bias_wth\"]\n",
    "\n",
    "        return result.fun, fit_params"
   ],
   "metadata": {
    "collapsed": false,
    "ExecuteTime": {
     "end_time": "2024-12-07T12:03:33.951085Z",
     "start_time": "2024-12-07T12:03:33.931604Z"
    }
   },
   "id": "bc5b8ea197744ac2"
  },
  {
   "cell_type": "markdown",
   "source": [
    "### Model 5\n",
    "\n",
    "Model 5 assumes a common learning rate $\\epsilon$ with reward and punishment sensitivities $\\rho_{rew}$ and $\\rho_{pun}$, and includes action biases for withdrawal actions $bias_{wth}$ and approach actions $bias_{app}$."
   ],
   "metadata": {
    "collapsed": false
   },
   "id": "50d137f5c10292b4"
  },
  {
   "cell_type": "code",
   "execution_count": 26,
   "outputs": [],
   "source": [
    "class Model5(Model):\n",
    "    def loss(self, params, cues, actions, rewards):\n",
    "        epsilon, rho_rew, rho_pun, bias_app, bias_wth = params\n",
    "        return -self.log_likelihood(\n",
    "            cues = cues,\n",
    "            actions = actions,\n",
    "            rewards = rewards,\n",
    "            epsilon_rew = epsilon,\n",
    "            epsilon_pun = epsilon,\n",
    "            epsilon_omi = epsilon,\n",
    "            rho_rew = rho_rew,\n",
    "            rho_pun = -rho_pun,\n",
    "            bias_wth = bias_wth,\n",
    "            bias_app = bias_app\n",
    "        )\n",
    "\n",
    "    def minimize_loss(self, cues, actions, rewards):\n",
    "        result = minimize(\n",
    "            fun = self.loss,\n",
    "            x0 = [0.5, 5, 5, 0, 0],\n",
    "            bounds = [\n",
    "                self.epsilon_bounds,\n",
    "                self.beta_bounds,\n",
    "                self.beta_bounds,\n",
    "                self.bias_bounds,\n",
    "                self.bias_bounds,\n",
    "            ],\n",
    "            args = (cues, actions, rewards),\n",
    "            method = \"Nelder-Mead\"\n",
    "        )\n",
    "\n",
    "        fit_params = pd.DataFrame([result.x])\n",
    "        fit_params.columns = [\"epsilon\", \"rho_rew\", \"rho_pun\", \"bias_app\", \"bias_wth\"]\n",
    "\n",
    "        return result.fun, fit_params"
   ],
   "metadata": {
    "collapsed": false,
    "ExecuteTime": {
     "end_time": "2024-12-07T12:03:34.634442Z",
     "start_time": "2024-12-07T12:03:34.618794Z"
    }
   },
   "id": "d0a012cc69a9650"
  },
  {
   "cell_type": "markdown",
   "source": [
    "### Model 6\n",
    "\n",
    "Model 6 allows for separate reward and punishment sensitivities for the approach and withhold actions: $\\rho_{rew}^{app}$, $\\rho_{rew}^{wth}$,  $\\rho_{pun}^{app}$, and $\\rho_{pun}^{wth}$."
   ],
   "metadata": {
    "collapsed": false
   },
   "id": "231852570a85a535"
  },
  {
   "cell_type": "code",
   "execution_count": 27,
   "outputs": [],
   "source": [
    "class Model6(Model):\n",
    "    @staticmethod\n",
    "    def reward(a_t, r_t, rho_rew_app, rho_rew_wth, rho_pun_app, rho_pun_wth):\n",
    "        if a_t == 1 and r_t > 0: return rho_rew_app\n",
    "        if a_t == 1 and r_t < 0: return -rho_pun_app\n",
    "\n",
    "        if a_t == 0 and r_t > 0: return rho_rew_wth\n",
    "        if a_t == 0 and r_t < 0: return -rho_pun_wth\n",
    "\n",
    "        return 0\n",
    "\n",
    "    def log_likelihood(self, cues, actions, rewards, epsilon_rew, epsilon_pun, epsilon_omi, rho_rew_app, rho_rew_wth, rho_pun_app, rho_pun_wth, bias_wth, bias_app):\n",
    "        n_stimuli = len(set(cues))\n",
    "        n_actions = len(set(actions))\n",
    "\n",
    "        q_vals = np.zeros((n_stimuli, n_actions))\n",
    "\n",
    "        log_likelihood = 0\n",
    "\n",
    "        for t, a_t in enumerate(actions):\n",
    "            s_t = cues[t] - 1\n",
    "            r_t = self.reward(a_t, rewards[t], rho_rew_app, rho_rew_wth, rho_pun_app, rho_pun_wth)\n",
    "\n",
    "            qs = q_vals[s_t] + [bias_wth, bias_app]\n",
    "\n",
    "            probs = self.softmax(qs)\n",
    "            log_likelihood += np.log(probs[a_t])\n",
    "\n",
    "            # Update the Q-values using Rescorla-Wagner\n",
    "            q_vals[s_t, a_t] = self.rescorla_wagner(\n",
    "                q_val = q_vals[s_t, a_t],\n",
    "                epsilon_rew = epsilon_rew,\n",
    "                epsilon_pun = epsilon_pun,\n",
    "                epsilon_omi = epsilon_omi,\n",
    "                reward = r_t\n",
    "            )\n",
    "\n",
    "        return log_likelihood\n",
    "\n",
    "    def loss(self, params, cues, actions, rewards):\n",
    "        epsilon, rho_rew_app, rho_rew_wth, rho_pun_app, rho_pun_wth, bias_app, bias_wth = params\n",
    "        return -self.log_likelihood(\n",
    "            cues = cues,\n",
    "            actions = actions,\n",
    "            rewards = rewards,\n",
    "            epsilon_rew = epsilon,\n",
    "            epsilon_pun = epsilon,\n",
    "            epsilon_omi = epsilon,\n",
    "            rho_rew_app = rho_rew_app,\n",
    "            rho_rew_wth = rho_rew_wth,\n",
    "            rho_pun_app = rho_pun_app,\n",
    "            rho_pun_wth = rho_pun_wth,\n",
    "            bias_wth = bias_wth,\n",
    "            bias_app = bias_app\n",
    "        )\n",
    "\n",
    "    def minimize_loss(self, cues, actions, rewards):\n",
    "        result = minimize(\n",
    "            fun = self.loss,\n",
    "            x0 = [0.5, 5, 5, 5, 5, 0, 0],\n",
    "            bounds = [\n",
    "                self.epsilon_bounds,\n",
    "                self.beta_bounds,\n",
    "                self.beta_bounds,\n",
    "                self.beta_bounds,\n",
    "                self.beta_bounds,\n",
    "                self.bias_bounds,\n",
    "                self.bias_bounds\n",
    "            ],\n",
    "            args = (cues, actions, rewards),\n",
    "            method = \"Nelder-Mead\"\n",
    "        )\n",
    "\n",
    "        fit_params = pd.DataFrame([result.x])\n",
    "        fit_params.columns = [\"epsilon\", \"rho_rew_app\", \"rho_rew_wth\", \"rho_pun_app\", \"rho_pun_wth\", \"bias_app\", \"bias_wth\"]\n",
    "        fit_params[\"rho_pun_app\"] = -fit_params[\"rho_pun_app\"]\n",
    "        fit_params[\"rho_pun_wth\"] = -fit_params[\"rho_pun_wth\"]\n",
    "\n",
    "        return result.fun, fit_params"
   ],
   "metadata": {
    "collapsed": false,
    "ExecuteTime": {
     "end_time": "2024-12-07T12:03:35.342821Z",
     "start_time": "2024-12-07T12:03:35.324414Z"
    }
   },
   "id": "7fe4fbf28fc6d5f7"
  },
  {
   "cell_type": "markdown",
   "source": [
    "### Model 7\n",
    "\n",
    "Model 7 includes two learning rates for approach actions $\\epsilon_{app}$ and withhold actions $\\epsilon_{wth}$, as well as the reward and punishment sensitivities $\\rho_{rew}$ and $\\rho_{pun}$ and the action biases for withdrawal actions $bias_{wth}$ and approach actions $bias_{app}$."
   ],
   "metadata": {
    "collapsed": false
   },
   "id": "ef77e7e03a66daa0"
  },
  {
   "cell_type": "code",
   "execution_count": 28,
   "outputs": [],
   "source": [
    "class Model7(Model):\n",
    "    @staticmethod\n",
    "    def rescorla_wagner(q_val, epsilon_app, epsilon_wth, action, reward):\n",
    "        if action == 1:\n",
    "            return q_val + epsilon_app * (reward - q_val)\n",
    "\n",
    "        return q_val + epsilon_wth * (reward - q_val)\n",
    "    \n",
    "    def log_likelihood(self, cues, actions, rewards, epsilon_app, epsilon_wth, rho_rew, rho_pun, bias_wth, bias_app):\n",
    "        n_stimuli = len(set(cues))\n",
    "        n_actions = len(set(actions))\n",
    "\n",
    "        q_vals = np.zeros((n_stimuli, n_actions))\n",
    "\n",
    "        log_likelihood = 0\n",
    "\n",
    "        for t, a_t in enumerate(actions):\n",
    "            s_t = cues[t] - 1\n",
    "            r_t = self.reward(rewards[t], rho_rew, rho_pun)\n",
    "\n",
    "            qs = q_vals[s_t] + [ bias_wth, bias_app ]\n",
    "\n",
    "            probs = self.softmax(qs)\n",
    "            log_likelihood += np.log(probs[a_t])\n",
    "\n",
    "            # Update the Q-values using Rescorla-Wagner\n",
    "            q_vals[s_t, a_t] = self.rescorla_wagner(\n",
    "                q_val = q_vals[s_t, a_t],\n",
    "                epsilon_app = epsilon_app,\n",
    "                epsilon_wth = epsilon_wth,\n",
    "                action = a_t,\n",
    "                reward = r_t\n",
    "            )\n",
    "\n",
    "        return log_likelihood\n",
    "\n",
    "    def loss(self, params, cues, actions, rewards):\n",
    "        epsilon_app, epsilon_wth, rho_rew, rho_pun, bias_app, bias_wth = params\n",
    "        return -self.log_likelihood(\n",
    "            cues = cues,\n",
    "            actions = actions,\n",
    "            rewards = rewards,\n",
    "            epsilon_app = epsilon_app,\n",
    "            epsilon_wth = epsilon_wth,\n",
    "            rho_rew = rho_rew,\n",
    "            rho_pun = -rho_pun,\n",
    "            bias_wth = bias_wth,\n",
    "            bias_app = bias_app\n",
    "        )\n",
    "\n",
    "    def minimize_loss(self, cues, actions, rewards):\n",
    "        result = minimize(\n",
    "            fun = self.loss,\n",
    "            x0 = [0.5, 0.5, 5, 5, 0, 0],\n",
    "            bounds = [\n",
    "                self.epsilon_bounds,\n",
    "                self.epsilon_bounds,\n",
    "                self.beta_bounds,\n",
    "                self.beta_bounds,\n",
    "                self.bias_bounds,\n",
    "                self.bias_bounds\n",
    "            ],\n",
    "            args = (cues, actions, rewards),\n",
    "            method = \"Nelder-Mead\"\n",
    "        )\n",
    "\n",
    "        fit_params = pd.DataFrame([result.x])\n",
    "        fit_params.columns = [\"epsilon_app\", \"epsilon_wth\", \"rho_rew\", \"rho_pun\", \"bias_app\", \"bias_wth\"]\n",
    "        fit_params[\"rho_pun\"] = -fit_params[\"rho_pun\"]\n",
    "\n",
    "        return result.fun, fit_params"
   ],
   "metadata": {
    "collapsed": false,
    "ExecuteTime": {
     "end_time": "2024-12-07T12:03:36.108748Z",
     "start_time": "2024-12-07T12:03:36.089954Z"
    }
   },
   "id": "143f5f6449eb2ff8"
  },
  {
   "cell_type": "markdown",
   "source": [
    "## Part 3\n",
    "\n",
    "Create an additional model which takes into account Pavlovian biases. Use model 7 as a starting point for this. Add a parameter p to the model. To determine the action values to put into the softmax function for a given cue, take the Q-values, add the general bias to approach or withhold (as in equation 1 of the paper), and add p to the Q-value for approaching if the maximum Q-value for the current cue is positive, or add p to the Q-value for withholding if the maximal Q-value for the current cue is negative. That is, equation (1) of the paper becomes:\n",
    "\n",
    "$$\n",
    "W(s_t, a_t) = Q_t(s_t, a_t) + b(a_t) + p_t'(a_t)\n",
    "$$\n",
    "\n",
    "with $\n",
    "p_t'(a_t) = \\begin{cases}\n",
    "p & \\text{ if } max_a Q(s_t, a) > 0 \\text{ and } a_t = 1 \\\\\n",
    "p & \\text{ if } max_a Q(s_t, a) < 0 \\text{ and } a_t = 0 \\\\\n",
    "0 & \\text{ else }\n",
    "\\end{cases}\n",
    "$\n",
    "\n",
    "Though note that for this specific model we also overwrite $b(a_t)$ with a different bias."
   ],
   "metadata": {
    "collapsed": false
   },
   "id": "1675d253b99c6328"
  },
  {
   "cell_type": "code",
   "execution_count": 29,
   "outputs": [],
   "source": [
    "class Model8(Model):\n",
    "    @staticmethod\n",
    "    def rescorla_wagner(q_val, epsilon_app, epsilon_wth, action, reward):\n",
    "        if action == 1:\n",
    "            return q_val + epsilon_app * (reward - q_val)\n",
    "\n",
    "        return q_val + epsilon_wth * (reward - q_val)\n",
    "\n",
    "    def log_likelihood(self, cues, actions, rewards, epsilon_app, epsilon_wth, rho_rew, rho_pun, bias_wth, bias_app, p):\n",
    "        n_stimuli = len(set(cues))\n",
    "        n_actions = len(set(actions))\n",
    "\n",
    "        q_vals = np.zeros((n_stimuli, n_actions))\n",
    "\n",
    "        log_likelihood = 0\n",
    "\n",
    "        for t, a_t in enumerate(actions):\n",
    "            s_t = cues[t] - 1\n",
    "            r_t = self.reward(rewards[t], rho_rew, rho_pun)\n",
    "\n",
    "            qs = q_vals[s_t] + [ bias_wth, bias_app ]\n",
    "            \n",
    "            max_q = np.max(q_vals[s_t])\n",
    "            if max_q < 0: qs[0] += p\n",
    "            if max_q > 0: qs[1] += p\n",
    "\n",
    "            probs = self.softmax(qs)\n",
    "            log_likelihood += np.log(probs[a_t])\n",
    "\n",
    "            # Update the Q-values using Rescorla-Wagner\n",
    "            q_vals[s_t, a_t] = self.rescorla_wagner(\n",
    "                q_val = q_vals[s_t, a_t],\n",
    "                epsilon_app = epsilon_app,\n",
    "                epsilon_wth = epsilon_wth,\n",
    "                action = a_t,\n",
    "                reward = r_t\n",
    "            )\n",
    "\n",
    "        return log_likelihood\n",
    "\n",
    "    def loss(self, params, cues, actions, rewards):\n",
    "        epsilon_app, epsilon_wth, rho_rew, rho_pun, bias_app, bias_wth, p = params\n",
    "        return -self.log_likelihood(\n",
    "            cues = cues,\n",
    "            actions = actions,\n",
    "            rewards = rewards,\n",
    "            epsilon_app = epsilon_app,\n",
    "            epsilon_wth = epsilon_wth,\n",
    "            rho_rew = rho_rew,\n",
    "            rho_pun = -rho_pun,\n",
    "            bias_wth = bias_wth,\n",
    "            bias_app = bias_app,\n",
    "            p = p\n",
    "        )\n",
    "\n",
    "    def minimize_loss(self, cues, actions, rewards):\n",
    "        result = minimize(\n",
    "            fun = self.loss,\n",
    "            x0 = [0.5, 0.5, 5, 5, 0, 0, 0.5],\n",
    "            bounds = [\n",
    "                self.epsilon_bounds,\n",
    "                self.epsilon_bounds,\n",
    "                self.beta_bounds,\n",
    "                self.beta_bounds,\n",
    "                self.bias_bounds,\n",
    "                self.bias_bounds,\n",
    "                self.p_bounds\n",
    "            ],\n",
    "            args = (cues, actions, rewards),\n",
    "            method = \"Nelder-Mead\"\n",
    "        )\n",
    "\n",
    "        fit_params = pd.DataFrame([result.x])\n",
    "        fit_params.columns = [\"epsilon_app\", \"epsilon_wth\", \"rho_rew\", \"rho_pun\", \"bias_app\", \"bias_wth\", \"p\"]\n",
    "        fit_params[\"rho_pun\"] = -fit_params[\"rho_pun\"]\n",
    "\n",
    "        return result.fun, fit_params"
   ],
   "metadata": {
    "collapsed": false,
    "ExecuteTime": {
     "end_time": "2024-12-07T12:03:37.242923Z",
     "start_time": "2024-12-07T12:03:37.231624Z"
    }
   },
   "id": "cdeb12d782948cec"
  },
  {
   "cell_type": "markdown",
   "source": [
    "## Part 4\n",
    "\n",
    "Optimize the models, by fitting all the parameters of each model to each individual subject, using the scipy minimize function. Pay attention to initialize the parameters to reasonable values and set sensible bounds for each parameter (since Q-values get turned into probabilities through a softmax, which uses an exponential function, you may have to limit some of the parameters to certain magnitudes, to prevent overflow errors). Given the number of models this can take some minutes, to save time you can e.g. only apply the logarithm at the end, rather than during every iteration of your for-loop."
   ],
   "metadata": {
    "collapsed": false
   },
   "id": "d078178fd1d50459"
  },
  {
   "cell_type": "code",
   "execution_count": 30,
   "outputs": [],
   "source": [
    "data = pd.read_csv(\"gen_data.csv\")"
   ],
   "metadata": {
    "collapsed": false,
    "ExecuteTime": {
     "end_time": "2024-12-07T12:03:39.068790Z",
     "start_time": "2024-12-07T12:03:39.045592Z"
    }
   },
   "id": "e914760d583ee66"
  },
  {
   "cell_type": "code",
   "execution_count": 31,
   "outputs": [
    {
     "name": "stdout",
     "output_type": "stream",
     "text": [
      "Fitting model 0\n",
      "Model 0 loss: 2866.06\n",
      "Fitting model 1\n",
      "Model 1 loss: 2862.93\n",
      "Fitting model 2\n",
      "Model 2 loss: 2792.92\n",
      "Fitting model 3\n",
      "Model 3 loss: 2736.41\n",
      "Fitting model 4\n",
      "Model 4 loss: 2732.86\n",
      "Fitting model 5\n",
      "Model 5 loss: 2655.65\n",
      "Fitting model 6\n",
      "Model 6 loss: 2682.4\n",
      "Fitting model 7\n",
      "Model 7 loss: 2653.68\n"
     ]
    }
   ],
   "source": [
    "models = [\n",
    "    Model1(),\n",
    "    Model2(),\n",
    "    Model3(),\n",
    "    Model4(),\n",
    "    Model5(),\n",
    "    Model6(),\n",
    "    Model7(),\n",
    "    Model8()\n",
    "]\n",
    "\n",
    "model_fits = []\n",
    "\n",
    "for i, model in enumerate(models):\n",
    "    print(f\"Fitting model {i + 1}\")\n",
    "    model_fit = model.fit(data)\n",
    "    print(f\"Model {i + 1} loss: {round(model_fit[\"loss\"].sum(), 2)}\")\n",
    "    model_fits.append(model_fit)"
   ],
   "metadata": {
    "collapsed": false,
    "ExecuteTime": {
     "end_time": "2024-12-07T12:05:55.615172Z",
     "start_time": "2024-12-07T12:03:39.552434Z"
    }
   },
   "id": "51e4e4c3e065e706"
  },
  {
   "cell_type": "markdown",
   "source": [
    "# Part 5\n",
    "\n",
    "Sum up the optimized log-likelihoods across all subjects for each model. Use this and all other relevant values to compute the BIC score for each model (using e.g. the BIC equation of Wikipedia). What does this tell you about which model describes the data best?"
   ],
   "metadata": {
    "collapsed": false
   },
   "id": "100233e46887d87"
  },
  {
   "cell_type": "code",
   "execution_count": 47,
   "outputs": [],
   "source": [
    "def BIC(k, n, l):\n",
    "    \"\"\"\n",
    "    Calculate BIC criteria.\n",
    "    :param k: number of parameters estimated by the model.\n",
    "    :param n: sample size.\n",
    "    :param l: maximized value of the log-likelihood function of the model\n",
    "    :return: BIC\n",
    "    \"\"\"\n",
    "    return k * np.log(n) - 2 * l"
   ],
   "metadata": {
    "collapsed": false,
    "ExecuteTime": {
     "end_time": "2024-12-07T12:14:54.309562Z",
     "start_time": "2024-12-07T12:14:54.292795Z"
    }
   },
   "id": "e3445486c9d76509"
  },
  {
   "cell_type": "code",
   "execution_count": 63,
   "outputs": [],
   "source": [
    "bic_results = []\n",
    "\n",
    "for i, model_fit in enumerate(model_fits):\n",
    "    k = len(model_fit.columns) - 2\n",
    "    n = len(data)\n",
    "    l = -model_fit.loss.sum()\n",
    "    bic = BIC(k = k, n = n, l = l)\n",
    "    \n",
    "    bic_results.append(\n",
    "        pd.DataFrame({\n",
    "            \"Model\": [f\"Model{i + 1}\"],\n",
    "            \"ModelIndex\": [i + 1],\n",
    "            \"k\": [k],\n",
    "            \"n\": [n],\n",
    "            \"l\": [l],\n",
    "            \"BIC\": [bic]\n",
    "        })\n",
    "    )\n",
    "\n",
    "bic_results = pd.concat(bic_results)\n",
    "bic_results = bic_results.reset_index(drop = True)"
   ],
   "metadata": {
    "collapsed": false,
    "ExecuteTime": {
     "end_time": "2024-12-07T12:19:03.740056Z",
     "start_time": "2024-12-07T12:19:03.723227Z"
    }
   },
   "id": "245878dd7ba36478"
  },
  {
   "cell_type": "code",
   "execution_count": 64,
   "outputs": [
    {
     "data": {
      "text/plain": "    Model  ModelIndex  k     n            l          BIC\n0  Model1           1  2  6000 -2866.060591  5749.520211\n1  Model2           2  3  6000 -2862.928628  5751.955800\n2  Model3           3  4  6000 -2792.919406  5620.636871\n3  Model4           4  4  6000 -2736.412929  5507.623916\n4  Model5           5  5  6000 -2732.855647  5509.208867\n5  Model6           6  7  6000 -2655.651541  5372.199686\n6  Model7           7  6  6000 -2682.400884  5416.998856\n7  Model8           8  7  6000 -2653.682366  5368.261335",
      "text/html": "<div>\n<style scoped>\n    .dataframe tbody tr th:only-of-type {\n        vertical-align: middle;\n    }\n\n    .dataframe tbody tr th {\n        vertical-align: top;\n    }\n\n    .dataframe thead th {\n        text-align: right;\n    }\n</style>\n<table border=\"1\" class=\"dataframe\">\n  <thead>\n    <tr style=\"text-align: right;\">\n      <th></th>\n      <th>Model</th>\n      <th>ModelIndex</th>\n      <th>k</th>\n      <th>n</th>\n      <th>l</th>\n      <th>BIC</th>\n    </tr>\n  </thead>\n  <tbody>\n    <tr>\n      <th>0</th>\n      <td>Model1</td>\n      <td>1</td>\n      <td>2</td>\n      <td>6000</td>\n      <td>-2866.060591</td>\n      <td>5749.520211</td>\n    </tr>\n    <tr>\n      <th>1</th>\n      <td>Model2</td>\n      <td>2</td>\n      <td>3</td>\n      <td>6000</td>\n      <td>-2862.928628</td>\n      <td>5751.955800</td>\n    </tr>\n    <tr>\n      <th>2</th>\n      <td>Model3</td>\n      <td>3</td>\n      <td>4</td>\n      <td>6000</td>\n      <td>-2792.919406</td>\n      <td>5620.636871</td>\n    </tr>\n    <tr>\n      <th>3</th>\n      <td>Model4</td>\n      <td>4</td>\n      <td>4</td>\n      <td>6000</td>\n      <td>-2736.412929</td>\n      <td>5507.623916</td>\n    </tr>\n    <tr>\n      <th>4</th>\n      <td>Model5</td>\n      <td>5</td>\n      <td>5</td>\n      <td>6000</td>\n      <td>-2732.855647</td>\n      <td>5509.208867</td>\n    </tr>\n    <tr>\n      <th>5</th>\n      <td>Model6</td>\n      <td>6</td>\n      <td>7</td>\n      <td>6000</td>\n      <td>-2655.651541</td>\n      <td>5372.199686</td>\n    </tr>\n    <tr>\n      <th>6</th>\n      <td>Model7</td>\n      <td>7</td>\n      <td>6</td>\n      <td>6000</td>\n      <td>-2682.400884</td>\n      <td>5416.998856</td>\n    </tr>\n    <tr>\n      <th>7</th>\n      <td>Model8</td>\n      <td>8</td>\n      <td>7</td>\n      <td>6000</td>\n      <td>-2653.682366</td>\n      <td>5368.261335</td>\n    </tr>\n  </tbody>\n</table>\n</div>"
     },
     "execution_count": 64,
     "metadata": {},
     "output_type": "execute_result"
    }
   ],
   "source": [
    "bic_results"
   ],
   "metadata": {
    "collapsed": false,
    "ExecuteTime": {
     "end_time": "2024-12-07T12:19:04.008693Z",
     "start_time": "2024-12-07T12:19:03.992890Z"
    }
   },
   "id": "5bffcf48cec27e66"
  },
  {
   "cell_type": "code",
   "execution_count": 78,
   "outputs": [
    {
     "data": {
      "text/plain": "<Figure size 1000x400 with 2 Axes>",
      "image/png": "[encoded data removed]"
     },
     "metadata": {},
     "output_type": "display_data"
    }
   ],
   "source": [
    "fig, axs = plt.subplots(nrows = 1, ncols = 2, figsize = (10, 4))\n",
    "\n",
    "axs[0].plot(bic_results.ModelIndex, bic_results.BIC)\n",
    "axs[0].set_xlabel(\"Model\")\n",
    "axs[0].set_ylabel(\"BIC\")\n",
    "axs[0].set_title(\"BIC for different models\")\n",
    "\n",
    "axs[1].plot(bic_results.ModelIndex, bic_results.l)\n",
    "axs[1].set_xlabel(\"Model\")\n",
    "axs[1].set_ylabel(\"Log-likelihood\")\n",
    "axs[1].set_title(\"Log-likelihood for different models\")\n",
    "\n",
    "fig.tight_layout()\n",
    "plt.show()"
   ],
   "metadata": {
    "collapsed": false,
    "ExecuteTime": {
     "end_time": "2024-12-07T12:22:16.795504Z",
     "start_time": "2024-12-07T12:22:16.688132Z"
    }
   },
   "id": "76f84dc0873eeb18"
  },
  {
   "cell_type": "markdown",
   "source": [
    "**TODO: ANSWER**"
   ],
   "metadata": {
    "collapsed": false
   },
   "id": "1806ce0df997e724"
  },
  {
   "cell_type": "markdown",
   "source": [
    "## Part 6\n",
    "\n",
    "Compare the fitted $\\epsilon_{app}$ and $\\epsilon_{wth}$ for the last model. How do you interpret the difference in their means?"
   ],
   "metadata": {
    "collapsed": false
   },
   "id": "29dd928feba2abbe"
  },
  {
   "cell_type": "code",
   "execution_count": 85,
   "outputs": [],
   "source": [
    "last = model_fits[-1]\n",
    "last[\"epsilon_diff\"] = last[\"epsilon_app\"] - last[\"epsilon_wth\"]"
   ],
   "metadata": {
    "collapsed": false,
    "ExecuteTime": {
     "end_time": "2024-12-07T12:24:52.003216Z",
     "start_time": "2024-12-07T12:24:51.983755Z"
    }
   },
   "id": "d341f842d2463b8a"
  },
  {
   "cell_type": "code",
   "execution_count": null,
   "outputs": [],
   "source": [
    "# plot learning rates of the last model???"
   ],
   "metadata": {
    "collapsed": false
   },
   "id": "21fb9c2be7aaf933"
  },
  {
   "cell_type": "markdown",
   "source": [
    "## Part 7\n",
    "\n",
    "Bonus: Fit the first subject 10 times with the last model, using different initial parameters. Create a scatter plot between the fitted $bias_{app}$ and $bias_{wth}$ across the fits. How do you explain this plot?"
   ],
   "metadata": {
    "collapsed": false
   },
   "id": "bc7261288e87f4b1"
  },
  {
   "cell_type": "code",
   "execution_count": null,
   "outputs": [],
   "source": [],
   "metadata": {
    "collapsed": false
   },
   "id": "73807bc19d3a9320"
  }
 ],
 "metadata": {
  "kernelspec": {
   "display_name": "Python 3",
   "language": "python",
   "name": "python3"
  },
  "language_info": {
   "codemirror_mode": {
    "name": "ipython",
    "version": 2
   },
   "file_extension": ".py",
   "mimetype": "text/x-python",
   "name": "python",
   "nbconvert_exporter": "python",
   "pygments_lexer": "ipython2",
   "version": "2.7.6"
  }
 },
 "nbformat": 4,
 "nbformat_minor": 5
}
