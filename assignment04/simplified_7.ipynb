{
 "cells": [
  {
   "cell_type": "code",
   "execution_count": 1,
   "id": "initial_id",
   "metadata": {
    "collapsed": true,
    "ExecuteTime": {
     "end_time": "2024-12-06T20:24:19.578278Z",
     "start_time": "2024-12-06T20:24:19.197388Z"
    }
   },
   "outputs": [],
   "source": [
    "import pandas as pd\n",
    "import numpy as np\n",
    "from scipy.optimize import minimize"
   ]
  },
  {
   "cell_type": "code",
   "execution_count": 2,
   "outputs": [],
   "source": [
    "def softmax(x):\n",
    "    exp = np.exp(x)\n",
    "    return exp / np.sum(exp)"
   ],
   "metadata": {
    "collapsed": false,
    "ExecuteTime": {
     "end_time": "2024-12-06T20:24:19.586381Z",
     "start_time": "2024-12-06T20:24:19.579211Z"
    }
   },
   "id": "891b107c2a964bf"
  },
  {
   "cell_type": "code",
   "execution_count": 3,
   "outputs": [],
   "source": [
    "def rescorla_wagner(q_val, epsilon_app, epsilon_wth, action, reward):\n",
    "    if action == 1:\n",
    "        return q_val + epsilon_app * (reward - q_val)\n",
    "\n",
    "    return q_val + epsilon_wth * (reward - q_val)"
   ],
   "metadata": {
    "collapsed": false,
    "ExecuteTime": {
     "end_time": "2024-12-06T20:24:19.586519Z",
     "start_time": "2024-12-06T20:24:19.581211Z"
    }
   },
   "id": "51e9c4a960f7f7d6"
  },
  {
   "cell_type": "code",
   "execution_count": 4,
   "outputs": [],
   "source": [
    "def reward(r_t, rho_rew, rho_pun):\n",
    "    if r_t > 0: return rho_rew\n",
    "    if r_t < 0: return -rho_pun\n",
    "    return 0"
   ],
   "metadata": {
    "collapsed": false,
    "ExecuteTime": {
     "end_time": "2024-12-06T20:24:19.586579Z",
     "start_time": "2024-12-06T20:24:19.583432Z"
    }
   },
   "id": "441e932724ed655e"
  },
  {
   "cell_type": "code",
   "execution_count": 5,
   "outputs": [],
   "source": [
    "def bias(a, bias_app, bias_wth):\n",
    "    return bias_app if a == 1 else bias_wth"
   ],
   "metadata": {
    "collapsed": false,
    "ExecuteTime": {
     "end_time": "2024-12-06T20:24:19.589220Z",
     "start_time": "2024-12-06T20:24:19.586147Z"
    }
   },
   "id": "bb98bd3b8c2c83f8"
  },
  {
   "cell_type": "code",
   "execution_count": 6,
   "outputs": [],
   "source": [
    "def log_likelihood(cues, actions, rewards, epsilon_app, epsilon_wth, rho_rew, rho_pun, bias_app, bias_wth):\n",
    "    n_stimuli = len(set(cues))\n",
    "    n_actions = len(set(actions))\n",
    "\n",
    "    q_vals = np.zeros((n_stimuli, n_actions))\n",
    "    w_vals = np.zeros((n_stimuli, n_actions))\n",
    "\n",
    "    log_likelihood = 0\n",
    "\n",
    "    for t, a_t in enumerate(actions):\n",
    "        s_t = cues[t] - 1\n",
    "        r_t = reward(rewards[t], rho_rew, rho_pun)\n",
    "\n",
    "        probs = softmax(w_vals[s_t])\n",
    "        log_likelihood += np.log(probs[a_t])\n",
    "\n",
    "        # Update the Q-values using Rescorla-Wagner, add action bias\n",
    "        q_vals[s_t, a_t] = rescorla_wagner(\n",
    "            q_val = q_vals[s_t, a_t],\n",
    "            epsilon_app = epsilon_app,\n",
    "            epsilon_wth = epsilon_wth,\n",
    "            action = a_t,\n",
    "            reward = r_t\n",
    "        )\n",
    "\n",
    "        w_vals[s_t, a_t] = q_vals[s_t, a_t] + bias(a_t, bias_app, bias_wth)\n",
    "        w_vals[s_t, 1 - a_t] = q_vals[s_t, 1 - a_t] + bias(1 - a_t, bias_app, bias_wth)\n",
    "\n",
    "    return log_likelihood"
   ],
   "metadata": {
    "collapsed": false,
    "ExecuteTime": {
     "end_time": "2024-12-06T20:24:19.590956Z",
     "start_time": "2024-12-06T20:24:19.589503Z"
    }
   },
   "id": "33fbeafcd8b0efe"
  },
  {
   "cell_type": "code",
   "execution_count": 7,
   "outputs": [],
   "source": [
    "data = pd.read_csv(\"gen_data.csv\")"
   ],
   "metadata": {
    "collapsed": false,
    "ExecuteTime": {
     "end_time": "2024-12-06T20:24:19.599133Z",
     "start_time": "2024-12-06T20:24:19.591289Z"
    }
   },
   "id": "75d26255b36b635c"
  },
  {
   "cell_type": "code",
   "execution_count": 8,
   "outputs": [],
   "source": [
    "def loss(params, cues, actions, rewards):\n",
    "    epsilon_app, epsilon_wth, rho_rew, rho_pun, bias_app, bias_wth = params\n",
    "    return -log_likelihood(cues, actions, rewards, epsilon_app, epsilon_wth, rho_rew, rho_pun, bias_app, bias_wth)"
   ],
   "metadata": {
    "collapsed": false,
    "ExecuteTime": {
     "end_time": "2024-12-06T20:24:19.599217Z",
     "start_time": "2024-12-06T20:24:19.595270Z"
    }
   },
   "id": "fc5b7e4857031805"
  },
  {
   "cell_type": "code",
   "execution_count": 9,
   "outputs": [],
   "source": [
    "epsilon_bounds = (0.0000001, 0.99999)\n",
    "beta_bounds = (0.0001, 9.9999)\n",
    "bias_bounds = (-0.99999, 0.99999)"
   ],
   "metadata": {
    "collapsed": false,
    "ExecuteTime": {
     "end_time": "2024-12-06T20:24:19.601626Z",
     "start_time": "2024-12-06T20:24:19.597343Z"
    }
   },
   "id": "4f4c5f472808a8c5"
  },
  {
   "cell_type": "code",
   "execution_count": 10,
   "outputs": [],
   "source": [
    "min_loss = []\n",
    "\n",
    "for subject_id in data.ID.unique():\n",
    "    subject = data[data.ID == subject_id]\n",
    "\n",
    "    cues = subject.cue.tolist()\n",
    "    actions = subject.pressed.tolist()\n",
    "    rewards = subject.outcome.tolist()\n",
    "\n",
    "    res = minimize(\n",
    "        fun = loss,\n",
    "        x0 = [0.5, 0.5, 5, 5, 0, 0],\n",
    "        bounds = [epsilon_bounds, epsilon_bounds, beta_bounds, beta_bounds, bias_bounds, bias_bounds],\n",
    "        args = (cues, actions, rewards),\n",
    "        method = \"Nelder-Mead\"\n",
    "    )\n",
    "    \n",
    "    min_loss.append(res.fun)"
   ],
   "metadata": {
    "collapsed": false,
    "ExecuteTime": {
     "end_time": "2024-12-06T20:24:35.418720Z",
     "start_time": "2024-12-06T20:24:19.599828Z"
    }
   },
   "id": "7a4314adc8bd3690"
  },
  {
   "cell_type": "code",
   "execution_count": 11,
   "outputs": [
    {
     "data": {
      "text/plain": "2681.8704040853045"
     },
     "execution_count": 11,
     "metadata": {},
     "output_type": "execute_result"
    }
   ],
   "source": [
    "np.sum(min_loss) # 2682"
   ],
   "metadata": {
    "collapsed": false,
    "ExecuteTime": {
     "end_time": "2024-12-06T20:24:35.426016Z",
     "start_time": "2024-12-06T20:24:35.420367Z"
    }
   },
   "id": "239e84bc195e9ba2"
  }
 ],
 "metadata": {
  "kernelspec": {
   "display_name": "Python 3",
   "language": "python",
   "name": "python3"
  },
  "language_info": {
   "codemirror_mode": {
    "name": "ipython",
    "version": 2
   },
   "file_extension": ".py",
   "mimetype": "text/x-python",
   "name": "python",
   "nbconvert_exporter": "python",
   "pygments_lexer": "ipython2",
   "version": "2.7.6"
  }
 },
 "nbformat": 4,
 "nbformat_minor": 5
}
