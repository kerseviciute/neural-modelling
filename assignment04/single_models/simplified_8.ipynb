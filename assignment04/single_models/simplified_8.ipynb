{
 "cells": [
  {
   "cell_type": "code",
   "execution_count": 1,
   "id": "initial_id",
   "metadata": {
    "collapsed": true,
    "ExecuteTime": {
     "end_time": "2024-12-06T22:26:09.998404Z",
     "start_time": "2024-12-06T22:26:09.444827Z"
    }
   },
   "outputs": [],
   "source": [
    "import pandas as pd\n",
    "import numpy as np\n",
    "from scipy.optimize import minimize"
   ]
  },
  {
   "cell_type": "code",
   "execution_count": 2,
   "outputs": [],
   "source": [
    "def softmax(x):\n",
    "    exp = np.exp(x)\n",
    "    return exp / np.sum(exp)"
   ],
   "metadata": {
    "collapsed": false,
    "ExecuteTime": {
     "end_time": "2024-12-06T22:26:10.008883Z",
     "start_time": "2024-12-06T22:26:09.999070Z"
    }
   },
   "id": "891b107c2a964bf"
  },
  {
   "cell_type": "code",
   "execution_count": 3,
   "outputs": [],
   "source": [
    "def rescorla_wagner(q_val, epsilon_app, epsilon_wth, action, reward):\n",
    "    if action == 1:\n",
    "        return q_val + epsilon_app * (reward - q_val)\n",
    "\n",
    "    return q_val + epsilon_wth * (reward - q_val)"
   ],
   "metadata": {
    "collapsed": false,
    "ExecuteTime": {
     "end_time": "2024-12-06T22:26:10.009013Z",
     "start_time": "2024-12-06T22:26:10.003345Z"
    }
   },
   "id": "51e9c4a960f7f7d6"
  },
  {
   "cell_type": "code",
   "execution_count": 4,
   "outputs": [],
   "source": [
    "def reward(r_t, rho_rew, rho_pun):\n",
    "    if r_t > 0: return rho_rew\n",
    "    if r_t < 0: return -rho_pun\n",
    "    return 0"
   ],
   "metadata": {
    "collapsed": false,
    "ExecuteTime": {
     "end_time": "2024-12-06T22:26:10.011583Z",
     "start_time": "2024-12-06T22:26:10.007033Z"
    }
   },
   "id": "441e932724ed655e"
  },
  {
   "cell_type": "code",
   "execution_count": 5,
   "outputs": [],
   "source": [
    "def log_likelihood(cues, actions, rewards, epsilon_app, epsilon_wth, rho_rew, rho_pun, bias_app, bias_wth, p):\n",
    "    n_stimuli = len(set(cues))\n",
    "    n_actions = len(set(actions))\n",
    "\n",
    "    q_vals = np.zeros((n_stimuli, n_actions))\n",
    "\n",
    "    log_likelihood = 0\n",
    "\n",
    "    for t, a_t in enumerate(actions):\n",
    "        s_t = cues[t] - 1\n",
    "        r_t = reward(rewards[t], rho_rew, rho_pun)\n",
    "\n",
    "        qs = q_vals[s_t] + [ bias_wth, bias_app ]\n",
    "\n",
    "        max_q = np.max(q_vals[s_t])\n",
    "        if max_q < 0: qs[0] += p\n",
    "        if max_q > 0: qs[1] += p\n",
    "\n",
    "        probs = softmax(qs)\n",
    "        log_likelihood += np.log(probs[a_t])\n",
    "\n",
    "        # Update the Q-values using Rescorla-Wagner\n",
    "        q_vals[s_t, a_t] = rescorla_wagner(\n",
    "            q_val = q_vals[s_t, a_t],\n",
    "            epsilon_app = epsilon_app,\n",
    "            epsilon_wth = epsilon_wth,\n",
    "            action = a_t,\n",
    "            reward = r_t\n",
    "        )\n",
    "\n",
    "    return log_likelihood"
   ],
   "metadata": {
    "collapsed": false,
    "ExecuteTime": {
     "end_time": "2024-12-06T22:26:10.022637Z",
     "start_time": "2024-12-06T22:26:10.012369Z"
    }
   },
   "id": "33fbeafcd8b0efe"
  },
  {
   "cell_type": "code",
   "execution_count": 6,
   "outputs": [],
   "source": [
    "data = pd.read_csv(\"gen_data.csv\")"
   ],
   "metadata": {
    "collapsed": false,
    "ExecuteTime": {
     "end_time": "2024-12-06T22:26:10.032166Z",
     "start_time": "2024-12-06T22:26:10.021270Z"
    }
   },
   "id": "75d26255b36b635c"
  },
  {
   "cell_type": "code",
   "execution_count": 7,
   "outputs": [],
   "source": [
    "def loss(params, cues, actions, rewards):\n",
    "    epsilon_app, epsilon_wth, rho_rew, rho_pun, bias_app, bias_wth, p = params\n",
    "    return -log_likelihood(cues, actions, rewards, epsilon_app, epsilon_wth, rho_rew, rho_pun, bias_app, bias_wth, p)"
   ],
   "metadata": {
    "collapsed": false,
    "ExecuteTime": {
     "end_time": "2024-12-06T22:26:10.032581Z",
     "start_time": "2024-12-06T22:26:10.027793Z"
    }
   },
   "id": "fc5b7e4857031805"
  },
  {
   "cell_type": "code",
   "execution_count": 8,
   "outputs": [],
   "source": [
    "epsilon_bounds = (0.0000001, 0.99999)\n",
    "beta_bounds = (0.0001, 9.9999)\n",
    "bias_bounds = (-0.99999, 0.99999)\n",
    "p_bounds = (0.0001, 0.9999)"
   ],
   "metadata": {
    "collapsed": false,
    "ExecuteTime": {
     "end_time": "2024-12-06T22:26:10.040997Z",
     "start_time": "2024-12-06T22:26:10.031711Z"
    }
   },
   "id": "4f4c5f472808a8c5"
  },
  {
   "cell_type": "code",
   "execution_count": 9,
   "outputs": [
    {
     "name": "stdout",
     "output_type": "stream",
     "text": [
      "[ 0.234688    0.21058039  2.34413325  2.26446764  0.18954365 -0.48864192\n",
      "  0.3291652 ]\n",
      "[ 0.35486004  0.3096695   3.06289315  2.26497166  0.42622588 -0.29440229\n",
      "  0.77712429]\n",
      "[ 0.2522245   0.30378664  2.88209545  2.71712513  0.02925667 -0.50757849\n",
      "  0.60095064]\n",
      "[ 0.31059788  0.21926427  2.96933118  2.19702767 -0.11332759 -0.7445545\n",
      "  0.30444236]\n",
      "[ 0.44644547  0.1039132   3.65664642  2.95614314 -0.09607697 -0.73031728\n",
      "  0.15432255]\n",
      "[ 0.32934028  0.18952329  3.69544525  2.33112058  0.33213251 -0.51053524\n",
      "  0.78812315]\n",
      "[ 0.15373457  0.16022389  3.3673331   2.55373356  0.10329098 -0.55173282\n",
      "  0.70028521]\n",
      "[ 0.34105913  0.16383747  2.85200691  2.50958413 -0.36488258 -0.99088649\n",
      "  0.3653765 ]\n",
      "[ 0.3235892   0.24311728  3.46181829  2.4590799   0.12881534 -0.62029656\n",
      "  0.38871371]\n",
      "[ 0.06790924  0.25666651  2.56885061  3.08415409  0.29902516 -0.17291557\n",
      "  0.42423712]\n"
     ]
    }
   ],
   "source": [
    "min_loss = []\n",
    "\n",
    "for subject_id in data.ID.unique():\n",
    "    subject = data[data.ID == subject_id]\n",
    "\n",
    "    cues = subject.cue.tolist()\n",
    "    actions = subject.pressed.tolist()\n",
    "    rewards = subject.outcome.tolist()\n",
    "\n",
    "    res = minimize(\n",
    "        fun = loss,\n",
    "        x0 = [0.5, 0.5, 5, 5, 0, 0, 0.5],\n",
    "        bounds = [epsilon_bounds, epsilon_bounds, beta_bounds, beta_bounds, bias_bounds, bias_bounds, p_bounds],\n",
    "        args = (cues, actions, rewards),\n",
    "        method = \"Nelder-Mead\"\n",
    "    )\n",
    "    \n",
    "    print(res.x)\n",
    "    min_loss.append(res.fun)"
   ],
   "metadata": {
    "collapsed": false,
    "ExecuteTime": {
     "end_time": "2024-12-06T22:27:00.834152Z",
     "start_time": "2024-12-06T22:26:10.036418Z"
    }
   },
   "id": "7a4314adc8bd3690"
  },
  {
   "cell_type": "code",
   "execution_count": 10,
   "outputs": [
    {
     "data": {
      "text/plain": "2653.68236585408"
     },
     "execution_count": 10,
     "metadata": {},
     "output_type": "execute_result"
    }
   ],
   "source": [
    "np.sum(min_loss) # 2652"
   ],
   "metadata": {
    "collapsed": false,
    "ExecuteTime": {
     "end_time": "2024-12-06T22:27:00.839501Z",
     "start_time": "2024-12-06T22:27:00.835104Z"
    }
   },
   "id": "239e84bc195e9ba2"
  },
  {
   "cell_type": "code",
   "execution_count": 10,
   "outputs": [],
   "source": [],
   "metadata": {
    "collapsed": false,
    "ExecuteTime": {
     "end_time": "2024-12-06T22:27:00.841371Z",
     "start_time": "2024-12-06T22:27:00.838028Z"
    }
   },
   "id": "c677ffb0008d8f0d"
  }
 ],
 "metadata": {
  "kernelspec": {
   "display_name": "Python 3",
   "language": "python",
   "name": "python3"
  },
  "language_info": {
   "codemirror_mode": {
    "name": "ipython",
    "version": 2
   },
   "file_extension": ".py",
   "mimetype": "text/x-python",
   "name": "python",
   "nbconvert_exporter": "python",
   "pygments_lexer": "ipython2",
   "version": "2.7.6"
  }
 },
 "nbformat": 4,
 "nbformat_minor": 5
}
