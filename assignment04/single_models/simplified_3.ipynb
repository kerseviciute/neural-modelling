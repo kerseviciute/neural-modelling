{
 "cells": [
  {
   "cell_type": "code",
   "execution_count": 1,
   "id": "initial_id",
   "metadata": {
    "collapsed": true,
    "ExecuteTime": {
     "end_time": "2024-12-06T19:51:35.194718Z",
     "start_time": "2024-12-06T19:51:34.884762Z"
    }
   },
   "outputs": [],
   "source": [
    "import pandas as pd\n",
    "import numpy as np\n",
    "from scipy.optimize import minimize"
   ]
  },
  {
   "cell_type": "code",
   "execution_count": 2,
   "outputs": [],
   "source": [
    "def softmax(x):\n",
    "    exp = np.exp(x)\n",
    "    return exp / np.sum(exp)"
   ],
   "metadata": {
    "collapsed": false,
    "ExecuteTime": {
     "end_time": "2024-12-06T19:51:35.202746Z",
     "start_time": "2024-12-06T19:51:35.195392Z"
    }
   },
   "id": "24014bdd60685cda"
  },
  {
   "cell_type": "code",
   "execution_count": 3,
   "outputs": [],
   "source": [
    "def rescorla_wagner(q_val, epsilon_rew, epsilon_pun, epsilon_omi, reward):\n",
    "    if reward > 0:\n",
    "        return q_val + epsilon_rew * (reward - q_val)\n",
    "\n",
    "    if reward < 0:\n",
    "        return q_val + epsilon_pun * (reward - q_val)\n",
    "\n",
    "    return q_val + epsilon_omi * (reward - q_val)"
   ],
   "metadata": {
    "collapsed": false,
    "ExecuteTime": {
     "end_time": "2024-12-06T19:51:35.202853Z",
     "start_time": "2024-12-06T19:51:35.197717Z"
    }
   },
   "id": "5f5f7ad3ad10e687"
  },
  {
   "cell_type": "code",
   "execution_count": 4,
   "outputs": [],
   "source": [
    "def reward(r_t, beta):\n",
    "    if r_t > 0: return beta\n",
    "    if r_t < 0: return -beta\n",
    "    return 0"
   ],
   "metadata": {
    "collapsed": false,
    "ExecuteTime": {
     "end_time": "2024-12-06T19:51:35.202887Z",
     "start_time": "2024-12-06T19:51:35.199963Z"
    }
   },
   "id": "6fd92f94f4c09692"
  },
  {
   "cell_type": "code",
   "execution_count": 5,
   "outputs": [],
   "source": [
    "def log_likelihood(cues, actions, rewards, epsilon_rew, epsilon_pun, epsilon_omi, beta):\n",
    "    n_stimuli = len(set(cues))\n",
    "    n_actions = len(set(actions))\n",
    "\n",
    "    q_vals = np.zeros((n_stimuli, n_actions))\n",
    "\n",
    "    log_likelihood = 0\n",
    "\n",
    "    for t, a_t in enumerate(actions):\n",
    "        s_t = cues[t] - 1\n",
    "        r_t = reward(rewards[t], beta)\n",
    "\n",
    "        probs = softmax(q_vals[s_t])\n",
    "        log_likelihood += np.log(probs[a_t])\n",
    "\n",
    "        # Update the Q-values using Rescorla-Wagner\n",
    "        q_vals[s_t, a_t] = rescorla_wagner(\n",
    "            q_val = q_vals[s_t, a_t],\n",
    "            epsilon_rew = epsilon_rew,\n",
    "            epsilon_pun = epsilon_pun,\n",
    "            epsilon_omi = epsilon_omi,\n",
    "            reward = r_t\n",
    "        )\n",
    "\n",
    "    return log_likelihood"
   ],
   "metadata": {
    "collapsed": false,
    "ExecuteTime": {
     "end_time": "2024-12-06T19:51:35.206089Z",
     "start_time": "2024-12-06T19:51:35.203269Z"
    }
   },
   "id": "653f7a0e460985d2"
  },
  {
   "cell_type": "code",
   "execution_count": 6,
   "outputs": [],
   "source": [
    "data = pd.read_csv(\"gen_data.csv\")"
   ],
   "metadata": {
    "collapsed": false,
    "ExecuteTime": {
     "end_time": "2024-12-06T19:51:35.213395Z",
     "start_time": "2024-12-06T19:51:35.205204Z"
    }
   },
   "id": "ffe3fadf32571c7d"
  },
  {
   "cell_type": "code",
   "execution_count": 7,
   "outputs": [],
   "source": [
    "def loss(params, cues, actions, rewards):\n",
    "    epsilon_rew, epsilon_pun, epsilon_omi, beta = params\n",
    "    return -log_likelihood(cues, actions, rewards, epsilon_rew, epsilon_pun, epsilon_omi, beta)"
   ],
   "metadata": {
    "collapsed": false,
    "ExecuteTime": {
     "end_time": "2024-12-06T19:51:35.213495Z",
     "start_time": "2024-12-06T19:51:35.208913Z"
    }
   },
   "id": "3e5888b2146ccf6"
  },
  {
   "cell_type": "code",
   "execution_count": 8,
   "outputs": [],
   "source": [
    "epsilon_bounds = (0.0000001, 0.99999)\n",
    "beta_bounds = (0.0001, 9.9999)"
   ],
   "metadata": {
    "collapsed": false,
    "ExecuteTime": {
     "end_time": "2024-12-06T19:51:35.213527Z",
     "start_time": "2024-12-06T19:51:35.210889Z"
    }
   },
   "id": "5e4029f74fe48599"
  },
  {
   "cell_type": "code",
   "execution_count": 9,
   "outputs": [
    {
     "name": "stdout",
     "output_type": "stream",
     "text": [
      "[0.99998952 0.21427158 0.0673047  2.93919209]\n",
      "[0.09184663 0.50362627 0.20397953 2.91049233]\n",
      "[0.01854342 0.43550712 0.08017434 4.6164769 ]\n",
      "[0.99999    0.20228824 0.09650828 2.82105765]\n",
      "[0.29704141 0.17111278 0.05540489 3.44248434]\n",
      "[0.36525298 0.10410854 0.03405016 2.89337266]\n",
      "[0.99999    0.16442843 0.05305727 3.13243937]\n",
      "[0.04837378 0.05324237 0.44897175 6.23900455]\n",
      "[0.31431061 0.09867216 0.02668184 4.01211625]\n",
      "[0.6123934  0.25267447 0.12794605 2.6286623 ]\n"
     ]
    }
   ],
   "source": [
    "min_loss = []\n",
    "\n",
    "for subject_id in data.ID.unique():\n",
    "    subject = data[ data.ID == subject_id ]\n",
    "\n",
    "    cues = subject.cue.tolist()\n",
    "    actions = subject.pressed.tolist()\n",
    "    rewards = subject.outcome.tolist()\n",
    "\n",
    "    res = minimize(\n",
    "        fun = loss,\n",
    "        x0 = [0.5, 0.5, 0.5, 5],\n",
    "        bounds = [epsilon_bounds, epsilon_bounds, epsilon_bounds, beta_bounds],\n",
    "        args = (cues, actions, rewards),\n",
    "        method = \"Nelder-Mead\"\n",
    "    )\n",
    "\n",
    "    min_loss.append(res.fun)\n",
    "    print(res.x)"
   ],
   "metadata": {
    "collapsed": false,
    "ExecuteTime": {
     "end_time": "2024-12-06T19:51:42.706488Z",
     "start_time": "2024-12-06T19:51:35.214442Z"
    }
   },
   "id": "2ffc1cc6b012618d"
  },
  {
   "cell_type": "code",
   "execution_count": 10,
   "outputs": [
    {
     "data": {
      "text/plain": "2792.919405767867"
     },
     "execution_count": 10,
     "metadata": {},
     "output_type": "execute_result"
    }
   ],
   "source": [
    "np.sum(min_loss)"
   ],
   "metadata": {
    "collapsed": false,
    "ExecuteTime": {
     "end_time": "2024-12-06T19:51:42.714251Z",
     "start_time": "2024-12-06T19:51:42.707933Z"
    }
   },
   "id": "50720ca995b928fe"
  }
 ],
 "metadata": {
  "kernelspec": {
   "display_name": "Python 3",
   "language": "python",
   "name": "python3"
  },
  "language_info": {
   "codemirror_mode": {
    "name": "ipython",
    "version": 2
   },
   "file_extension": ".py",
   "mimetype": "text/x-python",
   "name": "python",
   "nbconvert_exporter": "python",
   "pygments_lexer": "ipython2",
   "version": "2.7.6"
  }
 },
 "nbformat": 4,
 "nbformat_minor": 5
}
