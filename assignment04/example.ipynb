{
 "cells": [
  {
   "cell_type": "code",
   "execution_count": 1,
   "metadata": {},
   "outputs": [],
   "source": [
    "import numpy as np\n",
    "from scipy.optimize import minimize\n",
    "\n",
    "def coin_tosser(p, n=1000):\n",
    "    tosses = np.random.rand(n) < p\n",
    "    return tosses\n",
    "\n",
    "def coin_ll(tosses, p):\n",
    "    k = tosses.sum()\n",
    "    n = len(tosses)\n",
    "    return k * np.log(p) + (n - k) * np.log(1 - p)\n",
    "\n",
    "\n",
    "example = coin_tosser(0.5)\n",
    "\n",
    "def loss(p):\n",
    "    pass\n",
    "\n",
    "res = minimize()\n",
    "print(res)"
   ]
  }
 ],
 "metadata": {
  "kernelspec": {
   "display_name": "exercises",
   "language": "python",
   "name": "python3"
  },
  "language_info": {
   "codemirror_mode": {
    "name": "ipython",
    "version": 3
   },
   "file_extension": ".py",
   "mimetype": "text/x-python",
   "name": "python",
   "nbconvert_exporter": "python",
   "pygments_lexer": "ipython3",
   "version": "3.12.7"
  }
 },
 "nbformat": 4,
 "nbformat_minor": 2
}
