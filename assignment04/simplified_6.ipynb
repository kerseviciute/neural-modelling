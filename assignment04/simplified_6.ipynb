{
 "cells": [
  {
   "cell_type": "markdown",
   "source": [
    "**Results differ slightly**"
   ],
   "metadata": {
    "collapsed": false
   },
   "id": "84da7d5fdbd6c646"
  },
  {
   "cell_type": "code",
   "execution_count": 1,
   "id": "initial_id",
   "metadata": {
    "collapsed": true,
    "ExecuteTime": {
     "end_time": "2024-12-06T20:18:31.721406Z",
     "start_time": "2024-12-06T20:18:31.348816Z"
    }
   },
   "outputs": [],
   "source": [
    "import pandas as pd\n",
    "import numpy as np\n",
    "from scipy.optimize import minimize"
   ]
  },
  {
   "cell_type": "code",
   "execution_count": 2,
   "outputs": [],
   "source": [
    "def softmax(x):\n",
    "    exp = np.exp(x)\n",
    "    return exp / np.sum(exp)"
   ],
   "metadata": {
    "collapsed": false,
    "ExecuteTime": {
     "end_time": "2024-12-06T20:18:31.729057Z",
     "start_time": "2024-12-06T20:18:31.722123Z"
    }
   },
   "id": "891b107c2a964bf"
  },
  {
   "cell_type": "code",
   "execution_count": 3,
   "outputs": [],
   "source": [
    "def rescorla_wagner(q_val, epsilon, reward):\n",
    "    return q_val + epsilon * (reward - q_val)"
   ],
   "metadata": {
    "collapsed": false,
    "ExecuteTime": {
     "end_time": "2024-12-06T20:18:31.729140Z",
     "start_time": "2024-12-06T20:18:31.723899Z"
    }
   },
   "id": "51e9c4a960f7f7d6"
  },
  {
   "cell_type": "code",
   "execution_count": 4,
   "outputs": [],
   "source": [
    "def reward(a_t, r_t, rho_rew_app, rho_rew_wth, rho_pun_app, rho_pun_wth):\n",
    "    if a_t == 1 and r_t > 0: return rho_rew_app\n",
    "    if a_t == 1 and r_t < 0: return -rho_pun_app\n",
    "    \n",
    "    if a_t == 0 and r_t > 0: return rho_rew_wth\n",
    "    if a_t == 0 and r_t < 0: return -rho_pun_wth\n",
    "\n",
    "    return 0"
   ],
   "metadata": {
    "collapsed": false,
    "ExecuteTime": {
     "end_time": "2024-12-06T20:18:31.729174Z",
     "start_time": "2024-12-06T20:18:31.726146Z"
    }
   },
   "id": "441e932724ed655e"
  },
  {
   "cell_type": "code",
   "execution_count": 5,
   "outputs": [],
   "source": [
    "def bias(a, bias_app, bias_wth):\n",
    "    return bias_app if a == 1 else bias_wth"
   ],
   "metadata": {
    "collapsed": false,
    "ExecuteTime": {
     "end_time": "2024-12-06T20:18:31.732088Z",
     "start_time": "2024-12-06T20:18:31.728895Z"
    }
   },
   "id": "bb98bd3b8c2c83f8"
  },
  {
   "cell_type": "code",
   "execution_count": 6,
   "outputs": [],
   "source": [
    "def log_likelihood(cues, actions, rewards, epsilon, rho_rew_app, rho_rew_wth, rho_pun_app, rho_pun_wth, bias_app, bias_wth):\n",
    "    n_stimuli = len(set(cues))\n",
    "    n_actions = len(set(actions))\n",
    "\n",
    "    q_vals = np.zeros((n_stimuli, n_actions))\n",
    "    w_vals = np.zeros((n_stimuli, n_actions))\n",
    "\n",
    "    log_likelihood = 0\n",
    "\n",
    "    for t, a_t in enumerate(actions):\n",
    "        s_t = cues[t] - 1\n",
    "        r_t = reward(a_t, rewards[t], rho_rew_app, rho_rew_wth, rho_pun_app, rho_pun_wth)\n",
    "\n",
    "        probs = softmax(w_vals[s_t])\n",
    "        log_likelihood += np.log(probs[a_t])\n",
    "\n",
    "        # Update the Q-values using Rescorla-Wagner, add action bias\n",
    "        q_vals[s_t, a_t] = rescorla_wagner(\n",
    "            q_val = q_vals[s_t, a_t],\n",
    "            epsilon = epsilon,\n",
    "            reward = r_t\n",
    "        )\n",
    "\n",
    "        w_vals[s_t, a_t] = q_vals[s_t, a_t] + bias(a_t, bias_app, bias_wth)\n",
    "        w_vals[s_t, 1 - a_t] = q_vals[s_t, 1 - a_t] + bias(1 - a_t, bias_app, bias_wth)\n",
    "\n",
    "    return log_likelihood"
   ],
   "metadata": {
    "collapsed": false,
    "ExecuteTime": {
     "end_time": "2024-12-06T20:18:31.739837Z",
     "start_time": "2024-12-06T20:18:31.732648Z"
    }
   },
   "id": "33fbeafcd8b0efe"
  },
  {
   "cell_type": "code",
   "execution_count": 7,
   "outputs": [],
   "source": [
    "data = pd.read_csv(\"gen_data.csv\")"
   ],
   "metadata": {
    "collapsed": false,
    "ExecuteTime": {
     "end_time": "2024-12-06T20:18:31.739924Z",
     "start_time": "2024-12-06T20:18:31.734758Z"
    }
   },
   "id": "75d26255b36b635c"
  },
  {
   "cell_type": "code",
   "execution_count": 8,
   "outputs": [],
   "source": [
    "def loss(params, cues, actions, rewards):\n",
    "    epsilon, rho_rew_app, rho_rew_wth, rho_pun_app, rho_pun_wth, bias_app, bias_wth = params\n",
    "    return -log_likelihood(cues, actions, rewards, epsilon, rho_rew_app, rho_rew_wth, rho_pun_app, rho_pun_wth, bias_app, bias_wth)"
   ],
   "metadata": {
    "collapsed": false,
    "ExecuteTime": {
     "end_time": "2024-12-06T20:18:31.741884Z",
     "start_time": "2024-12-06T20:18:31.738708Z"
    }
   },
   "id": "fc5b7e4857031805"
  },
  {
   "cell_type": "code",
   "execution_count": 9,
   "outputs": [],
   "source": [
    "epsilon_bounds = (0.0000001, 0.99999)\n",
    "beta_bounds = (0.0001, 9.9999)\n",
    "bias_bounds = (-0.99999, 0.99999)"
   ],
   "metadata": {
    "collapsed": false,
    "ExecuteTime": {
     "end_time": "2024-12-06T20:18:31.745240Z",
     "start_time": "2024-12-06T20:18:31.740686Z"
    }
   },
   "id": "4f4c5f472808a8c5"
  },
  {
   "cell_type": "code",
   "execution_count": 10,
   "outputs": [
    {
     "name": "stdout",
     "output_type": "stream",
     "text": [
      "[ 0.24028048  1.94550321  2.63023797  3.03945437  1.18688565  0.70708722\n",
      " -0.61957934]\n",
      "[ 0.31112032  3.93078425  1.61406785  2.50512631  2.25464739  0.19501821\n",
      " -0.09355719]\n",
      "[0.28190804 3.08006806 2.49137707 3.50583053 2.00679922 0.95287406\n",
      " 0.17043185]\n",
      "[1.98451896e-01 4.32918898e+00 2.07067780e+00 1.87008634e+00\n",
      " 2.47761686e+00 4.10640116e-03 5.52650077e-03]\n",
      "[ 2.62592929e-01  3.94045856e+00  2.92705829e+00  3.05948873e+00\n",
      "  2.22086849e+00  5.18886383e-01 -5.53390371e-04]\n",
      "[ 0.1706286   4.07407681  2.93859629  3.296823    1.6697872   0.58208497\n",
      " -0.35201723]\n",
      "[ 0.13726235  4.08685257  2.73562809  3.66084878  1.86453297 -0.28576216\n",
      " -0.99966522]\n",
      "[ 0.27818418  3.56588713  2.19045576  2.75430613  1.99274451  0.17910234\n",
      " -0.32301122]\n",
      "[ 0.28869302  3.85631377  3.24173536  3.03229108  1.87838331  0.76571965\n",
      " -0.17687139]\n",
      "[ 0.31291659  2.80966551  2.00913213  2.62868546  2.38778215  0.14744933\n",
      " -0.36984791]\n"
     ]
    }
   ],
   "source": [
    "min_loss = []\n",
    "\n",
    "for subject_id in data.ID.unique():\n",
    "    subject = data[data.ID == subject_id]\n",
    "\n",
    "    cues = subject.cue.tolist()\n",
    "    actions = subject.pressed.tolist()\n",
    "    rewards = subject.outcome.tolist()\n",
    "\n",
    "    res = minimize(\n",
    "        fun = loss,\n",
    "        x0 = [0.5, 5, 5, 5, 5, 0, 0],\n",
    "        bounds = [epsilon_bounds, beta_bounds, beta_bounds, beta_bounds, beta_bounds, bias_bounds, bias_bounds],\n",
    "        args = (cues, actions, rewards),\n",
    "        method = \"Nelder-Mead\"\n",
    "    )\n",
    "    \n",
    "    print(res.x)\n",
    "    min_loss.append(res.fun)"
   ],
   "metadata": {
    "collapsed": false,
    "ExecuteTime": {
     "end_time": "2024-12-06T20:18:53.150510Z",
     "start_time": "2024-12-06T20:18:31.743146Z"
    }
   },
   "id": "7a4314adc8bd3690"
  },
  {
   "cell_type": "code",
   "execution_count": 11,
   "outputs": [
    {
     "data": {
      "text/plain": "2654.852286109379"
     },
     "execution_count": 11,
     "metadata": {},
     "output_type": "execute_result"
    }
   ],
   "source": [
    "np.sum(min_loss) # 2663"
   ],
   "metadata": {
    "collapsed": false,
    "ExecuteTime": {
     "end_time": "2024-12-06T20:18:53.153744Z",
     "start_time": "2024-12-06T20:18:53.151488Z"
    }
   },
   "id": "239e84bc195e9ba2"
  },
  {
   "cell_type": "code",
   "execution_count": 11,
   "outputs": [],
   "source": [],
   "metadata": {
    "collapsed": false,
    "ExecuteTime": {
     "end_time": "2024-12-06T20:18:53.155082Z",
     "start_time": "2024-12-06T20:18:53.153410Z"
    }
   },
   "id": "db43e65124acfb7"
  }
 ],
 "metadata": {
  "kernelspec": {
   "display_name": "Python 3",
   "language": "python",
   "name": "python3"
  },
  "language_info": {
   "codemirror_mode": {
    "name": "ipython",
    "version": 2
   },
   "file_extension": ".py",
   "mimetype": "text/x-python",
   "name": "python",
   "nbconvert_exporter": "python",
   "pygments_lexer": "ipython2",
   "version": "2.7.6"
  }
 },
 "nbformat": 4,
 "nbformat_minor": 5
}
