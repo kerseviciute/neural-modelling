{
 "cells": [
  {
   "cell_type": "code",
   "execution_count": 5,
   "id": "initial_id",
   "metadata": {
    "collapsed": true,
    "ExecuteTime": {
     "end_time": "2024-12-06T18:21:08.196020Z",
     "start_time": "2024-12-06T18:21:06.713297Z"
    }
   },
   "outputs": [],
   "source": [
    "import pandas as pd\n",
    "import numpy as np\n",
    "import matplotlib.pyplot as plt\n",
    "from scipy.optimize import minimize"
   ]
  },
  {
   "cell_type": "markdown",
   "source": [
    "# Model fitting and Pavlovian biases. Pavlovian-instrumental interactions\n",
    "\n",
    "## Part 1\n",
    "\n",
    "Download the dataset .csv from Slack. It contains the data of 10 subjects (see column \"ID\" for the subject identifier), performing a go/no-go task, each for 600 trials. The column \"cue\" informs you about the presented trial type (see the \"cue mapping\" variable in our template). The column \"pressed\" contains the response of the participant (0 is no-go, 1 is go) and \"outcome\" contains whether a reward was delivered (1), nothing was delivered (0), a punishment was given (-1).\n",
    "\n",
    "Recreate figure 2E of the paper \"Go and no-go learning in reward and punishment: Interactions between affect and effect\" with the data you have. Only the bar plots are important here, no need for error bars or significance tests."
   ],
   "metadata": {
    "collapsed": false
   },
   "id": "e16dd046f80f3418"
  },
  {
   "cell_type": "code",
   "execution_count": 6,
   "outputs": [],
   "source": [
    "data = pd.read_csv(\"gen_data.csv\")\n",
    "\n",
    "# Go+ = Go to win\n",
    "# Go- = go to avoid losing\n",
    "# NoGo+ = don't go to win\n",
    "# NoGo- = don't go to avoid losing\n",
    "cue_mapping = { 1: \"Go+\", 2: \"Go-\", 3: \"NoGo+\", 4: \"NoGo-\" }\n",
    "\n",
    "data[\"CueFactor\"] = [cue_mapping.get(cue) for cue in data.cue]\n",
    "data[\"CueFactor\"] = data[\"CueFactor\"].astype(\"category\")"
   ],
   "metadata": {
    "collapsed": false,
    "ExecuteTime": {
     "end_time": "2024-12-06T18:21:08.204623Z",
     "start_time": "2024-12-06T18:21:08.197336Z"
    }
   },
   "id": "4b12f50839928ea0"
  },
  {
   "cell_type": "code",
   "execution_count": 7,
   "outputs": [],
   "source": [
    "# Determine if each trial is correct or not\n",
    "data[\"Correct\"] = False\n",
    "for i, trial in data.iterrows():\n",
    "    if trial.CueFactor == \"Go+\" or trial.CueFactor == \"Go-\":\n",
    "        data.loc[i, \"Correct\"] = trial.pressed == 1\n",
    "\n",
    "    if trial.CueFactor == \"NoGo+\" or trial.CueFactor == \"NoGo-\":\n",
    "        data.loc[i, \"Correct\"] = trial.pressed != 1\n",
    "\n",
    "# Compute the average of correct values for each cue\n",
    "cue_means = data.groupby([\"ID\", \"CueFactor\"], observed = False)[\"Correct\"].mean()"
   ],
   "metadata": {
    "collapsed": false,
    "ExecuteTime": {
     "end_time": "2024-12-06T18:21:08.584647Z",
     "start_time": "2024-12-06T18:21:08.205954Z"
    }
   },
   "id": "7af018355a2ab31d"
  },
  {
   "cell_type": "code",
   "execution_count": 8,
   "outputs": [],
   "source": [
    "means = []\n",
    "cues = []\n",
    "for cue in data.CueFactor.unique():\n",
    "    cue_data = cue_means.xs(cue, level = \"CueFactor\")\n",
    "    means.append(np.mean(cue_data))\n",
    "    cues.append(cue)"
   ],
   "metadata": {
    "collapsed": false,
    "ExecuteTime": {
     "end_time": "2024-12-06T18:21:08.590111Z",
     "start_time": "2024-12-06T18:21:08.586488Z"
    }
   },
   "id": "508eb7b91cc8b945"
  },
  {
   "cell_type": "code",
   "execution_count": 9,
   "outputs": [
    {
     "data": {
      "text/plain": "<Figure size 640x480 with 1 Axes>",
      "image/png": "[encoded data removed]"
     },
     "metadata": {},
     "output_type": "display_data"
    }
   ],
   "source": [
    "plt.bar(cues, means)\n",
    "plt.ylabel(\"Probability\\ncorrect\")\n",
    "plt.ylim(0, 1)\n",
    "plt.xticks(\n",
    "    ticks = cues,\n",
    "    labels = [\n",
    "        \"Go to\\nWin\",\n",
    "        \"Go to\\nAvoid\",\n",
    "        \"Nogo to\\nWin\",\n",
    "        \"Nogo to\\nAvoid\"\n",
    "    ]\n",
    ")\n",
    "plt.show()"
   ],
   "metadata": {
    "collapsed": false,
    "ExecuteTime": {
     "end_time": "2024-12-06T18:21:08.680986Z",
     "start_time": "2024-12-06T18:21:08.588608Z"
    }
   },
   "id": "20fb9afb11cfdc92"
  },
  {
   "cell_type": "markdown",
   "source": [
    "## Part 2\n",
    "\n",
    "Program the log likelihood functions of the models 1 to 7 (including) presented in \"Disentangling the Roles of Approach, Activation and Valence in Instrumental and Pavlovian Responding\" (see Table 2 of that paper for the model numbering and relevant parameters). The paper uses these parameters:\n",
    "\n",
    "- learning rate $\\epsilon$\n",
    "- feedback sensitivity $\\beta$\n",
    "- the general feedback sensitivity $\\beta$ can be replaced by separate reward and punishment sensitivities $\\rho$ (we don’t include a sensitivity for omission)\n",
    "- there can be different learning rates $\\epsilon$ for reward, feedback omission, and punishment (the paper doesn't make use of omissions, so they use only two learning rates, you will need three)\n",
    "- there can be a general bias to approach $bias_{app}$, and a general bias to withhold responding $bias_{wth}$"
   ],
   "metadata": {
    "collapsed": false
   },
   "id": "9e8badb35a05eb50"
  },
  {
   "cell_type": "markdown",
   "source": [
    "### General model\n",
    "\n",
    "$s^{\\mathcal{I}}_t$ - the instrumental stimulus, presented at trial $t$ (one out of four: Go+, Go-, NoGo+, and NoGo-).\n",
    "\n",
    "$a_t$ - the action (choice) at trial $t$. The action can be one of four types: in the withdrawal block, (1) go withdrawal and (2) nogo withdrawal, and in the approach block, (3) go approach and (4) nogo approach.\n",
    "\n",
    "$r_t$ - the reinforcement obtained, $r_t \\in \\{-1, 0, 1\\}$ where $-1$ marks a punishment, $0$ marks no reinforcement (feedback omission), and $-1$ marks a reward.\n",
    "\n",
    "The probability of action $a_t$ in the presence of stimulus $s^{\\mathcal{I}}_t$ is a standard probabilistic function:\n",
    "\n",
    "$$\n",
    "p(a_t | $s^{\\mathcal{I}}_t$) = \\frac{exp(\\mathcal{W}^{\\mathcal{I}} ($s^{\\mathcal{I}}_t$, a_t))}{\\sum_{a'} exp(\\mathcal{W}^{\\mathcal{I}} ($s^{\\mathcal{I}}_t$, a'))}\n",
    "$$\n",
    "\n",
    "Here, $\\mathcal{W}^{\\mathcal{I}}$ is the instrumental weight of action $a_t$:\n",
    "\n",
    "$$\n",
    "\\mathcal{W}^{\\mathcal{I}}(s^{\\mathcal{I}}_t, a_t) = \\mathcal{Q}(s^{\\mathcal{I}}_t, a_t) + b(a_t)\n",
    "$$\n",
    "\n",
    "The variable $b(a_t)$ can take on value $bias_{wth}$ for withhold actions, or $bias_{app}$ for approach actions.\n",
    "\n",
    "The Q-values are updated according to a Rescorla-Wagner-like rule with a fixed learning rate $\\epsilon$. The immediate, intrinsic, value of the reinforcements may have a different meaning for different subjects. To measure this effect, two further parameters are added: $\\rho_{rew}$ for the reward sensitivity and $\\rho_{pun}$ for the punishment sensitivity. Update equation for the expectations is thus:\n",
    "\n",
    "$$\n",
    "\\mathcal{Q}_{t+1}(s^{\\mathcal{I}}_t, a_t) = \\mathcal{Q}_{t}(s^{\\mathcal{I}}_t, a_t) + \\epsilon (\\mathcal{R}_t - \\mathcal{Q}_{t}(s^{\\mathcal{I}}_t, a_t))\n",
    "$$\n",
    "\n",
    "$$\n",
    "\\mathcal{R}_t =\\begin{cases}\n",
    "      \\rho_{rew} & \\text{ if }\\ r_t > 0 \\\\\n",
    "      \\rho_{pun} & \\text{ if }\\ r_t < 0 \\\\\n",
    "    \\end{cases}\n",
    "$$\n"
   ],
   "metadata": {
    "collapsed": false
   },
   "id": "88f2f0b6cf51dafe"
  },
  {
   "cell_type": "code",
   "execution_count": 130,
   "outputs": [],
   "source": [
    "def softmax(x):\n",
    "    exp = np.exp(x)\n",
    "    return exp / np.sum(exp)"
   ],
   "metadata": {
    "collapsed": false,
    "ExecuteTime": {
     "end_time": "2024-12-06T18:43:15.909415Z",
     "start_time": "2024-12-06T18:43:15.891767Z"
    }
   },
   "id": "d2c01097650a2a44"
  },
  {
   "cell_type": "code",
   "execution_count": 113,
   "outputs": [],
   "source": [
    "def rescorla_wagner(q_val, epsilon_rew, epsilon_pun, epsilon_omi, reward):\n",
    "    \"\"\"\n",
    "    Recalculates Q-value based on received reward and provided learning rates.\n",
    "    :param q_val: current Q-value\n",
    "    :param epsilon_rew: learning rate (reward)\n",
    "    :param epsilon_pun: learning rate (punishment)\n",
    "    :param epsilon_omi: learning rate (omission)\n",
    "    :param reward: reward\n",
    "    :return: updated Q-value\n",
    "    \"\"\"\n",
    "    if reward > 0:\n",
    "        return q_val + epsilon_rew * (reward - q_val)\n",
    "\n",
    "    if reward < 0:\n",
    "        return q_val + epsilon_pun * (reward - q_val)\n",
    "\n",
    "    return q_val + epsilon_omi * (reward - q_val)"
   ],
   "metadata": {
    "collapsed": false,
    "ExecuteTime": {
     "end_time": "2024-12-06T18:39:59.285561Z",
     "start_time": "2024-12-06T18:39:59.137543Z"
    }
   },
   "id": "23bd2b8e3214b096"
  },
  {
   "cell_type": "code",
   "execution_count": 45,
   "outputs": [],
   "source": [
    "def reward(a_t, r_t, params):\n",
    "    rho_rew, rho_pun = params\n",
    "    if r_t > 0: return rho_rew\n",
    "    if r_t < 0: return rho_pun\n",
    "    return 0"
   ],
   "metadata": {
    "collapsed": false,
    "ExecuteTime": {
     "end_time": "2024-12-06T18:32:48.573976Z",
     "start_time": "2024-12-06T18:32:48.571449Z"
    }
   },
   "id": "d9ed8a6116b7f59f"
  },
  {
   "cell_type": "code",
   "execution_count": 46,
   "outputs": [],
   "source": [
    "def bias(a, bias_app, bias_wth):\n",
    "    \"\"\"\n",
    "    Calculates response bias\n",
    "    \n",
    "    :param a: action taken (1 - approach, 0 - withhold)\n",
    "    :param bias_app: approach action bias\n",
    "    :param bias_wth: withhold action bias\n",
    "    :return: response bias\n",
    "    \"\"\"\n",
    "    return bias_app if a == 1 else bias_wth"
   ],
   "metadata": {
    "collapsed": false,
    "ExecuteTime": {
     "end_time": "2024-12-06T18:32:48.996538Z",
     "start_time": "2024-12-06T18:32:48.990157Z"
    }
   },
   "id": "d5f9f2c7fd481344"
  },
  {
   "cell_type": "code",
   "execution_count": 47,
   "outputs": [],
   "source": [
    "def weight(q_val, a, bias_app, bias_wth):\n",
    "    return q_val + bias(a, bias_app = bias_app, bias_wth = bias_wth)"
   ],
   "metadata": {
    "collapsed": false,
    "ExecuteTime": {
     "end_time": "2024-12-06T18:32:49.307131Z",
     "start_time": "2024-12-06T18:32:49.301552Z"
    }
   },
   "id": "58dc524d0dfa6365"
  },
  {
   "cell_type": "code",
   "execution_count": 147,
   "outputs": [],
   "source": [
    "def log_likelihood(cues, actions, rewards, epsilon_rew, epsilon_pun, epsilon_omi, bias_app, bias_wth, reward_fun, reward_fun_params):\n",
    "    \"\"\" Calculate log-likelihood\n",
    "    \n",
    "    :param cues: presented stimuli\n",
    "    :param actions: performed actions\n",
    "    :param rewards: gained rewards\n",
    "    :param epsilon_rew: learning rate (reward)\n",
    "    :param epsilon_pun: learning rate (punishment)\n",
    "    :param epsilon_omi: learning rate (omission)\n",
    "    :param bias_app: approach bias\n",
    "    :param bias_wth: withhold bias\n",
    "    :param reward_fun: function to calculate the reward\n",
    "    :param reward_fun_params: parameters to pass to the reward function\n",
    "    :return: \n",
    "    \"\"\"\n",
    "    n_stimuli = len(set(cues))\n",
    "    n_actions = len(set(actions))\n",
    "\n",
    "    q_vals = np.zeros((n_stimuli, n_actions))\n",
    "    w_vals = np.zeros((n_stimuli, n_actions))\n",
    "\n",
    "    log_likelihood = 0\n",
    "\n",
    "    for t, a_t in enumerate(actions):\n",
    "        s_t = cues[t] - 1\n",
    "        r_t = reward_fun(a_t, rewards[t], reward_fun_params)\n",
    "\n",
    "        probs = softmax(w_vals[s_t] * [0, 1])\n",
    "\n",
    "        log_likelihood += np.sum(np.log(probs))\n",
    "\n",
    "        # Update the Q-values using Rescorla-Wagner\n",
    "        q_vals[s_t, a_t] = rescorla_wagner(\n",
    "            q_val = q_vals[s_t, a_t],\n",
    "            epsilon_rew = epsilon_rew,\n",
    "            epsilon_pun = epsilon_pun,\n",
    "            epsilon_omi = epsilon_omi,\n",
    "            reward = r_t\n",
    "        )\n",
    "\n",
    "        # Update weights based on the Q-values and response bias\n",
    "        w_vals[s_t, a_t] = weight(q_vals[s_t, a_t], a = a_t, bias_app = bias_app, bias_wth = bias_wth)\n",
    "        w_vals[s_t, 1 - a_t] = weight(q_vals[s_t, 1 - a_t], a = 1 - a_t, bias_app = bias_app, bias_wth = bias_wth)\n",
    "\n",
    "    return log_likelihood"
   ],
   "metadata": {
    "collapsed": false,
    "ExecuteTime": {
     "end_time": "2024-12-06T19:09:47.385131Z",
     "start_time": "2024-12-06T19:09:47.351036Z"
    }
   },
   "id": "b4a2d817e7180d6d"
  },
  {
   "cell_type": "markdown",
   "source": [
    "### Model 1\n",
    "\n",
    "Model 1 assumes that $-\\rho_{pun} = \\rho_{rew} = \\beta$ and that $bias_{wth} = bias_{app} = 0$."
   ],
   "metadata": {
    "collapsed": false
   },
   "id": "447065d85c66decd"
  },
  {
   "cell_type": "code",
   "execution_count": 148,
   "outputs": [],
   "source": [
    "def model1(cues, actions, rewards, epsilon, beta):\n",
    "    \"\"\"\n",
    "    Log-likelihood for model 1\n",
    "    :param cues: \n",
    "    :param actions: \n",
    "    :param rewards: \n",
    "    :param epsilon: learning rate\n",
    "    :param beta: feedback sensitivity\n",
    "    :return: \n",
    "    \"\"\"\n",
    "\n",
    "    return log_likelihood(\n",
    "        cues = cues,\n",
    "        actions = actions,\n",
    "        rewards = rewards,\n",
    "        epsilon_rew = epsilon,\n",
    "        epsilon_pun = epsilon,\n",
    "        epsilon_omi = epsilon,\n",
    "        bias_app = 0,\n",
    "        bias_wth = 0,\n",
    "        reward_fun = reward,\n",
    "        reward_fun_params = (beta, -beta)\n",
    "    )"
   ],
   "metadata": {
    "collapsed": false,
    "ExecuteTime": {
     "end_time": "2024-12-06T19:09:48.255397Z",
     "start_time": "2024-12-06T19:09:48.231779Z"
    }
   },
   "id": "68359bb7cadf4e30"
  },
  {
   "cell_type": "markdown",
   "source": [
    "### Model 2\n",
    "\n",
    "Model 2 includes separate reward and punishment sensitivities $\\rho_{rew}$ and $\\rho_{pun}$ with no action bias $bias_{wth} = bias_{app} = 0$."
   ],
   "metadata": {
    "collapsed": false
   },
   "id": "c3baf3a14f1dc152"
  },
  {
   "cell_type": "code",
   "execution_count": 74,
   "outputs": [],
   "source": [
    "def model2(cues, actions, rewards, epsilon, rho_rew, rho_pun):\n",
    "    \"\"\"\n",
    "    Log-likelihood for model 2\n",
    "    :param cues: \n",
    "    :param actions: \n",
    "    :param rewards: \n",
    "    :param epsilon: learning rate\n",
    "    :param rho_rew: feedback sensitivity (reward)\n",
    "    :param rho_pun: feedback sensitivity (punishment)\n",
    "    :return: \n",
    "    \"\"\"\n",
    "\n",
    "    return log_likelihood(\n",
    "        cues = cues,\n",
    "        actions = actions,\n",
    "        rewards = rewards,\n",
    "        epsilon_rew = epsilon,\n",
    "        epsilon_pun = epsilon,\n",
    "        epsilon_omi = epsilon,\n",
    "        bias_app = 0,\n",
    "        bias_wth = 0,\n",
    "        reward_fun = reward,\n",
    "        reward_fun_params = (rho_rew, rho_pun)\n",
    "    )"
   ],
   "metadata": {
    "collapsed": false,
    "ExecuteTime": {
     "end_time": "2024-12-06T18:35:29.469186Z",
     "start_time": "2024-12-06T18:35:29.461487Z"
    }
   },
   "id": "ee5c201b3fd0e715"
  },
  {
   "cell_type": "markdown",
   "source": [
    "### Model 3\n",
    "\n",
    "Model 3 again assumes $-\\rho_{pun} = \\rho_{rew} = \\beta$, and that $bias_{wth} = bias_{app} = 0$, but allows for two separate learning rates, i.e. $\\epsilon$ is replaced by $\\epsilon_{rew}$ on trials where $r_t = 1$, by $\\epsilon_{pun}$ on trials where $r_t = -1$, and by $\\epsilon_{omi}$ on trials where $r_t = 0$."
   ],
   "metadata": {
    "collapsed": false
   },
   "id": "f7d9a00e4e3c847e"
  },
  {
   "cell_type": "code",
   "execution_count": 75,
   "outputs": [],
   "source": [
    "def model3(cues, actions, rewards, epsilon_rew, epsilon_pun, epsilon_omi, beta):\n",
    "    \"\"\"\n",
    "    Log-likelihood for model 3\n",
    "    :param cues: \n",
    "    :param actions: \n",
    "    :param rewards: \n",
    "    :param epsilon_rew: learning rate (reward)\n",
    "    :param epsilon_pun: learning rate (punishment)\n",
    "    :param epsilon_omi: learning rate (omission)\n",
    "    :param beta: feedback sensitivity\n",
    "    :return: \n",
    "    \"\"\"\n",
    "\n",
    "    return log_likelihood(\n",
    "        cues = cues,\n",
    "        actions = actions,\n",
    "        rewards = rewards,\n",
    "        epsilon_rew = epsilon_rew,\n",
    "        epsilon_pun = epsilon_pun,\n",
    "        epsilon_omi = epsilon_omi,\n",
    "        bias_app = 0,\n",
    "        bias_wth = 0,\n",
    "        reward_fun = reward,\n",
    "        reward_fun_params = (beta, -beta)\n",
    "    )"
   ],
   "metadata": {
    "collapsed": false,
    "ExecuteTime": {
     "end_time": "2024-12-06T18:35:29.832840Z",
     "start_time": "2024-12-06T18:35:29.828007Z"
    }
   },
   "id": "703c432c35e064e4"
  },
  {
   "cell_type": "markdown",
   "source": [
    "### Model 4\n",
    "\n",
    "Model 4 assumes a common learning rate $\\epsilon$ and $-\\rho_{pun} = \\rho_{rew} = \\beta$, but includes action biases for withdrawal actions $bias_{wth}$ and approach actions $bias_{app}$."
   ],
   "metadata": {
    "collapsed": false
   },
   "id": "dfb1babfa5d6437f"
  },
  {
   "cell_type": "code",
   "execution_count": 76,
   "outputs": [],
   "source": [
    "def model4(cues, actions, rewards, epsilon, beta, bias_app, bias_wth):\n",
    "    \"\"\"\n",
    "    Log-likelihood for model 4\n",
    "    :param cues: presented stimuli\n",
    "    :param actions: performed actions\n",
    "    :param rewards: gained rewards\n",
    "    :param epsilon: learning rate\n",
    "    :param beta: feedback sensitivity\n",
    "    :param bias_app: approach bias\n",
    "    :param bias_wth: withhold bias\n",
    "    :return: \n",
    "    \"\"\"\n",
    "\n",
    "    return log_likelihood(\n",
    "        cues = cues,\n",
    "        actions = actions,\n",
    "        rewards = rewards,\n",
    "        epsilon_rew = epsilon,\n",
    "        epsilon_pun = epsilon,\n",
    "        epsilon_omi = epsilon,\n",
    "        bias_app = bias_app,\n",
    "        bias_wth = bias_wth,\n",
    "        reward_fun = reward,\n",
    "        reward_fun_params = (beta, -beta)\n",
    "    )"
   ],
   "metadata": {
    "collapsed": false,
    "ExecuteTime": {
     "end_time": "2024-12-06T18:35:30.141099Z",
     "start_time": "2024-12-06T18:35:30.135534Z"
    }
   },
   "id": "18ebde18ddb79c30"
  },
  {
   "cell_type": "markdown",
   "source": [
    "### Model 5\n",
    "\n",
    "Model 5 assumes a common learning rate $\\epsilon$ with reward and punishment sensitivities $\\rho_{rew}$ and $\\rho_{pun}$, and includes action biases for withdrawal actions $bias_{wth}$ and approach actions $bias_{app}$."
   ],
   "metadata": {
    "collapsed": false
   },
   "id": "ba73c82b1d9ddaba"
  },
  {
   "cell_type": "code",
   "execution_count": 77,
   "outputs": [],
   "source": [
    "def model5(cues, actions, rewards, epsilon, rho_rew, rho_pun, bias_app, bias_wth):\n",
    "    \"\"\"\n",
    "    Log-likelihood for model 5\n",
    "    :param cues: presented stimuli\n",
    "    :param actions: performed actions\n",
    "    :param rewards: gained rewards\n",
    "    :param epsilon: learning rate\n",
    "    :param rho_rew: feedback sensitivity (reward)\n",
    "    :param rho_pun: feedback sensitivity (punishment)\n",
    "    :param bias_app: approach bias\n",
    "    :param bias_wth: withhold bias\n",
    "    :return: \n",
    "    \"\"\"\n",
    "\n",
    "    return log_likelihood(\n",
    "        cues = cues,\n",
    "        actions = actions,\n",
    "        rewards = rewards,\n",
    "        epsilon_rew = epsilon,\n",
    "        epsilon_pun = epsilon,\n",
    "        epsilon_omi = epsilon,\n",
    "        bias_app = bias_app,\n",
    "        bias_wth = bias_wth,\n",
    "        reward_fun = reward,\n",
    "        reward_fun_params = (rho_rew, rho_pun)\n",
    "    )"
   ],
   "metadata": {
    "collapsed": false,
    "ExecuteTime": {
     "end_time": "2024-12-06T18:35:30.453707Z",
     "start_time": "2024-12-06T18:35:30.448103Z"
    }
   },
   "id": "f248296c915699c7"
  },
  {
   "cell_type": "markdown",
   "source": [
    "### Model 6\n",
    "\n",
    "Model 6 allows for separate reward and punishment sensitivities for the approach and withhold actions: $\\rho_{rew}^{app}$, $\\rho_{rew}^{wth}$,  $\\rho_{pun}^{app}$, and $\\rho_{pun}^{wth}$."
   ],
   "metadata": {
    "collapsed": false
   },
   "id": "ca7d847866a2dd1c"
  },
  {
   "cell_type": "code",
   "execution_count": 78,
   "outputs": [],
   "source": [
    "def reward_2(a_t, r_t, params):\n",
    "    rho_rew_app, rho_rew_wth, rho_pun_app, rho_pun_wth = params\n",
    "    if a_t == 1 and r_t > 0: return rho_rew_app\n",
    "    if a_t == 0 and r_t > 0: return rho_rew_wth\n",
    "\n",
    "    if a_t == 1 and r_t < 0: return rho_pun_app\n",
    "    if a_t == 0 and r_t < 0: return rho_pun_wth\n",
    "\n",
    "    return 0"
   ],
   "metadata": {
    "collapsed": false,
    "ExecuteTime": {
     "end_time": "2024-12-06T18:35:31.055864Z",
     "start_time": "2024-12-06T18:35:31.051256Z"
    }
   },
   "id": "5c863805c49110e8"
  },
  {
   "cell_type": "code",
   "execution_count": 79,
   "outputs": [],
   "source": [
    "def model6(cues, actions, rewards, epsilon, rho_rew_app, rho_rew_wth, rho_pun_app, rho_pun_wth, bias_app, bias_wth):\n",
    "    \"\"\"\n",
    "    Log-likelihood for model 6\n",
    "    :param cues: presented stimuli\n",
    "    :param actions: performed actions\n",
    "    :param rewards: gained rewards\n",
    "    :param epsilon: learning rate\n",
    "    :param rho_rew_app: feedback sensitivity (reward for approach)\n",
    "    :param rho_rew_wth: feedback sensitivity (reward for withhold)\n",
    "    :param rho_pun_app: feedback sensitivity (punishment for approach)\n",
    "    :param rho_pun_wth: feedback sensitivity (punishment for withhold)\n",
    "    :param bias_app: approach bias\n",
    "    :param bias_wth: withhold bias\n",
    "    :return: \n",
    "    \"\"\"\n",
    "\n",
    "    return log_likelihood(\n",
    "        cues = cues,\n",
    "        actions = actions,\n",
    "        rewards = rewards,\n",
    "        epsilon_rew = epsilon,\n",
    "        epsilon_pun = epsilon,\n",
    "        epsilon_omi = epsilon,\n",
    "        bias_app = bias_app,\n",
    "        bias_wth = bias_wth,\n",
    "        reward_fun = reward_2,\n",
    "        reward_fun_params = (rho_rew_app, rho_rew_wth, rho_pun_app, rho_pun_wth)\n",
    "    )"
   ],
   "metadata": {
    "collapsed": false,
    "ExecuteTime": {
     "end_time": "2024-12-06T18:35:31.425238Z",
     "start_time": "2024-12-06T18:35:31.414181Z"
    }
   },
   "id": "11744c927aca73da"
  },
  {
   "cell_type": "markdown",
   "source": [
    "## Part 3\n",
    "\n",
    "Create an additional model which takes into account Pavlovian biases. Use model 7 as a starting point for this. Add a parameter p to the model. To determine the action values to put into the softmax function for a given cue, take the Q-values, add the general bias to approach or withhold (as in equation 1 of the paper), and add p to the Q-value for approaching if the maximum Q-value for the current cue is positive, or add p to the Q-value for withholding if the maximal Q-value for the current cue is negative."
   ],
   "metadata": {
    "collapsed": false
   },
   "id": "854dd88bb934e99"
  },
  {
   "cell_type": "code",
   "execution_count": 79,
   "outputs": [],
   "source": [],
   "metadata": {
    "collapsed": false,
    "ExecuteTime": {
     "end_time": "2024-12-06T18:35:32.004068Z",
     "start_time": "2024-12-06T18:35:31.998431Z"
    }
   },
   "id": "a8fed0a2d045fe0a"
  },
  {
   "cell_type": "markdown",
   "source": [
    "## Part 4\n",
    "\n",
    "Optimize the models, by fitting all the parameters of each model to each individual subject, using the scipy minimize function. Pay attention to initialize the parameters to reasonable values and set sensible bounds for each parameter (since Q-values get turned into probabilities through a softmax, which uses an exponential function, you may have to limit some of the parameters to certain magnitudes, to prevent overflow errors). Given the number of models this can take some minutes, to save time you can e.g. only apply the logarithm at the end, rather than during every iteration of your for-loop."
   ],
   "metadata": {
    "collapsed": false
   },
   "id": "2ddd4349e7c800e6"
  },
  {
   "cell_type": "markdown",
   "source": [
    "### Model 1"
   ],
   "metadata": {
    "collapsed": false
   },
   "id": "a4dc5e750e615a46"
  },
  {
   "cell_type": "markdown",
   "source": [
    "w(s, a) = q(s, a) + b_wtf/app + p <- depending on the q value"
   ],
   "metadata": {
    "collapsed": false
   },
   "id": "4f7a0324d2680408"
  },
  {
   "cell_type": "code",
   "execution_count": 143,
   "outputs": [],
   "source": [],
   "metadata": {
    "collapsed": false,
    "ExecuteTime": {
     "end_time": "2024-12-06T18:44:59.671663Z",
     "start_time": "2024-12-06T18:44:59.668075Z"
    }
   },
   "id": "2107eadd187c531e"
  },
  {
   "cell_type": "code",
   "execution_count": 149,
   "outputs": [],
   "source": [
    "epsilon_bounds = (0.00001, 0.99999)\n",
    "beta_bounds = (0.1, 9.9999)\n",
    "# biases can be negative!"
   ],
   "metadata": {
    "collapsed": false,
    "ExecuteTime": {
     "end_time": "2024-12-06T19:09:57.732752Z",
     "start_time": "2024-12-06T19:09:57.707323Z"
    }
   },
   "id": "9b0bf26231030fd4"
  },
  {
   "cell_type": "code",
   "execution_count": 150,
   "outputs": [],
   "source": [
    "def loss1(params, cues, actions, rewards):\n",
    "    epsilon, beta = params\n",
    "    return -model1(cues, actions, rewards, epsilon, beta)"
   ],
   "metadata": {
    "collapsed": false,
    "ExecuteTime": {
     "end_time": "2024-12-06T19:09:57.917319Z",
     "start_time": "2024-12-06T19:09:57.901391Z"
    }
   },
   "id": "1c83480da14d0e92"
  },
  {
   "cell_type": "code",
   "execution_count": 151,
   "outputs": [
    {
     "data": {
      "text/plain": "-878.0106431244467"
     },
     "execution_count": 151,
     "metadata": {},
     "output_type": "execute_result"
    }
   ],
   "source": [
    "min_loss = []\n",
    "\n",
    "# for id in data.ID.unique():\n",
    "subject_id = data.ID.unique()[0]\n",
    "subject = data[ data.ID == subject_id ]\n",
    "\n",
    "cues = subject.cue.tolist()\n",
    "actions = subject.pressed.tolist()\n",
    "rewards = subject.outcome.tolist()\n",
    "\n",
    "model1(\n",
    "    cues = cues,\n",
    "    actions = actions,\n",
    "    rewards = rewards,\n",
    "    epsilon = 0.1,\n",
    "    beta = 1\n",
    ")\n",
    "\n",
    "# res = minimize(\n",
    "#     fun = loss1,\n",
    "#     x0 = [0.1, 5],\n",
    "#     bounds = [epsilon_bounds, beta_bounds],\n",
    "#     args = (cues, actions, rewards),\n",
    "#     method = \"Nelder-Mead\"\n",
    "# )\n",
    "\n",
    "# min_loss.append(res.fun)"
   ],
   "metadata": {
    "collapsed": false,
    "ExecuteTime": {
     "end_time": "2024-12-06T19:09:58.307612Z",
     "start_time": "2024-12-06T19:09:58.299167Z"
    }
   },
   "id": "47748d209e1d58"
  },
  {
   "cell_type": "markdown",
   "source": [
    "### Part 5\n",
    "\n",
    "Sum up the optimized log-likelihoods across all subjects for each model. Use this and all other relevant values to compute the BIC score for each model (using e.g. the BIC equation of Wikipedia). What does this tell you about which model describes the data best?"
   ],
   "metadata": {
    "collapsed": false
   },
   "id": "96df9c34bbd96727"
  },
  {
   "cell_type": "code",
   "execution_count": 22,
   "outputs": [],
   "source": [
    "def bic(k, n, l):\n",
    "    \"\"\"\n",
    "    Calculate BIC criteria.\n",
    "    :param k: number of parameters estimated by the model.\n",
    "    :param n: sample size.\n",
    "    :param l: maximized value of the likelihood function of the model\n",
    "    :return: BIC\n",
    "    \"\"\"\n",
    "    return k * np.log(n) - 2 * np.log(l)"
   ],
   "metadata": {
    "collapsed": false,
    "ExecuteTime": {
     "end_time": "2024-12-05T14:24:19.633122Z",
     "start_time": "2024-12-05T14:24:19.628332Z"
    }
   },
   "id": "957f78fa1b18959d"
  }
 ],
 "metadata": {
  "kernelspec": {
   "display_name": "Python 3",
   "language": "python",
   "name": "python3"
  },
  "language_info": {
   "codemirror_mode": {
    "name": "ipython",
    "version": 2
   },
   "file_extension": ".py",
   "mimetype": "text/x-python",
   "name": "python",
   "nbconvert_exporter": "python",
   "pygments_lexer": "ipython2",
   "version": "2.7.6"
  }
 },
 "nbformat": 4,
 "nbformat_minor": 5
}
