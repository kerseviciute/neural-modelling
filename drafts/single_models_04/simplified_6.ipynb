{
 "cells": [
  {
   "cell_type": "markdown",
   "source": [
    "**Results differ slightly**"
   ],
   "metadata": {
    "collapsed": false
   },
   "id": "84da7d5fdbd6c646"
  },
  {
   "cell_type": "code",
   "execution_count": 1,
   "id": "initial_id",
   "metadata": {
    "collapsed": true,
    "ExecuteTime": {
     "end_time": "2024-12-06T22:26:57.709906Z",
     "start_time": "2024-12-06T22:26:57.223595Z"
    }
   },
   "outputs": [],
   "source": [
    "import pandas as pd\n",
    "import numpy as np\n",
    "from scipy.optimize import minimize"
   ]
  },
  {
   "cell_type": "code",
   "execution_count": 2,
   "outputs": [],
   "source": [
    "def softmax(x):\n",
    "    exp = np.exp(x)\n",
    "    return exp / np.sum(exp)"
   ],
   "metadata": {
    "collapsed": false,
    "ExecuteTime": {
     "end_time": "2024-12-06T22:26:57.717503Z",
     "start_time": "2024-12-06T22:26:57.711100Z"
    }
   },
   "id": "891b107c2a964bf"
  },
  {
   "cell_type": "code",
   "execution_count": 3,
   "outputs": [],
   "source": [
    "def rescorla_wagner(q_val, epsilon, reward):\n",
    "    return q_val + epsilon * (reward - q_val)"
   ],
   "metadata": {
    "collapsed": false,
    "ExecuteTime": {
     "end_time": "2024-12-06T22:26:57.717591Z",
     "start_time": "2024-12-06T22:26:57.713401Z"
    }
   },
   "id": "51e9c4a960f7f7d6"
  },
  {
   "cell_type": "code",
   "execution_count": 4,
   "outputs": [],
   "source": [
    "def reward(a_t, r_t, rho_rew_app, rho_rew_wth, rho_pun_app, rho_pun_wth):\n",
    "    if a_t == 1 and r_t > 0: return rho_rew_app\n",
    "    if a_t == 1 and r_t < 0: return -rho_pun_app\n",
    "    \n",
    "    if a_t == 0 and r_t > 0: return rho_rew_wth\n",
    "    if a_t == 0 and r_t < 0: return -rho_pun_wth\n",
    "\n",
    "    return 0"
   ],
   "metadata": {
    "collapsed": false,
    "ExecuteTime": {
     "end_time": "2024-12-06T22:26:57.719635Z",
     "start_time": "2024-12-06T22:26:57.717208Z"
    }
   },
   "id": "441e932724ed655e"
  },
  {
   "cell_type": "code",
   "execution_count": 5,
   "outputs": [],
   "source": [
    "def log_likelihood(cues, actions, rewards, epsilon, rho_rew_app, rho_rew_wth, rho_pun_app, rho_pun_wth, bias_app, bias_wth):\n",
    "    n_stimuli = len(set(cues))\n",
    "    n_actions = len(set(actions))\n",
    "\n",
    "    q_vals = np.zeros((n_stimuli, n_actions))\n",
    "\n",
    "    log_likelihood = 0\n",
    "\n",
    "    for t, a_t in enumerate(actions):\n",
    "        s_t = cues[t] - 1\n",
    "        r_t = reward(a_t, rewards[t], rho_rew_app, rho_rew_wth, rho_pun_app, rho_pun_wth)\n",
    "\n",
    "        qs = [\n",
    "            q_vals[s_t, 0] + bias_wth,\n",
    "            q_vals[s_t, 1] + bias_app\n",
    "        ]\n",
    "\n",
    "        probs = softmax(qs)\n",
    "        log_likelihood += np.log(probs[a_t])\n",
    "\n",
    "        # Update the Q-values using Rescorla-Wagner\n",
    "        q_vals[s_t, a_t] = rescorla_wagner(\n",
    "            q_val = q_vals[s_t, a_t],\n",
    "            epsilon = epsilon,\n",
    "            reward = r_t\n",
    "        )\n",
    "\n",
    "    return log_likelihood"
   ],
   "metadata": {
    "collapsed": false,
    "ExecuteTime": {
     "end_time": "2024-12-06T22:26:57.721341Z",
     "start_time": "2024-12-06T22:26:57.719767Z"
    }
   },
   "id": "33fbeafcd8b0efe"
  },
  {
   "cell_type": "code",
   "execution_count": 6,
   "outputs": [],
   "source": [
    "data = pd.read_csv(\"gen_data.csv\")"
   ],
   "metadata": {
    "collapsed": false,
    "ExecuteTime": {
     "end_time": "2024-12-06T22:26:57.727846Z",
     "start_time": "2024-12-06T22:26:57.721797Z"
    }
   },
   "id": "75d26255b36b635c"
  },
  {
   "cell_type": "code",
   "execution_count": 7,
   "outputs": [],
   "source": [
    "def loss(params, cues, actions, rewards):\n",
    "    epsilon, rho_rew_app, rho_rew_wth, rho_pun_app, rho_pun_wth, bias_app, bias_wth = params\n",
    "    return -log_likelihood(cues, actions, rewards, epsilon, rho_rew_app, rho_rew_wth, rho_pun_app, rho_pun_wth, bias_app, bias_wth)"
   ],
   "metadata": {
    "collapsed": false,
    "ExecuteTime": {
     "end_time": "2024-12-06T22:26:57.729453Z",
     "start_time": "2024-12-06T22:26:57.727087Z"
    }
   },
   "id": "fc5b7e4857031805"
  },
  {
   "cell_type": "code",
   "execution_count": 8,
   "outputs": [],
   "source": [
    "epsilon_bounds = (0.0000001, 0.99999)\n",
    "beta_bounds = (0.0001, 9.9999)\n",
    "bias_bounds = (-0.99999, 0.99999)"
   ],
   "metadata": {
    "collapsed": false,
    "ExecuteTime": {
     "end_time": "2024-12-06T22:26:57.732884Z",
     "start_time": "2024-12-06T22:26:57.729579Z"
    }
   },
   "id": "4f4c5f472808a8c5"
  },
  {
   "cell_type": "code",
   "execution_count": 9,
   "outputs": [
    {
     "name": "stdout",
     "output_type": "stream",
     "text": [
      "[ 0.23126032  2.35014527  2.30986205  2.78507054  1.52872593  0.67549142\n",
      " -0.31348123]\n",
      "[ 0.31118584  3.96672608  1.57475076  2.47550941  2.27967553 -0.02567013\n",
      " -0.28261337]\n",
      "[ 0.28249697  3.05124282  2.52912831  3.5406952   1.97720311  0.20598825\n",
      " -0.61083067]\n",
      "[0.23649403 3.58446342 2.54614625 2.35614193 2.03546492 0.8886435\n",
      " 0.397028  ]\n",
      "[0.26886781 3.82725318 2.99440204 3.11309162 2.13773637 0.64524068\n",
      " 0.05388905]\n",
      "[ 0.16879175  4.1968775   2.81954982  3.17251544  1.76025512  0.79204917\n",
      " -0.03500612]\n",
      "[ 0.14921641  3.78877198  2.98769066  3.93449501  1.63411243  0.85632597\n",
      " -0.11195161]\n",
      "[ 0.2778251   3.50588213  2.24718734  2.80416015  1.94464143 -0.35128919\n",
      " -0.90558005]\n",
      "[ 0.28503391  3.98673635  3.10357915  2.91499872  1.99049676  0.65622433\n",
      " -0.15573681]\n",
      "[0.31116105 2.89384516 1.93251131 2.56168422 2.45152467 0.61237053\n",
      " 0.16921546]\n"
     ]
    }
   ],
   "source": [
    "min_loss = []\n",
    "\n",
    "for subject_id in data.ID.unique():\n",
    "    subject = data[data.ID == subject_id]\n",
    "\n",
    "    cues = subject.cue.tolist()\n",
    "    actions = subject.pressed.tolist()\n",
    "    rewards = subject.outcome.tolist()\n",
    "\n",
    "    res = minimize(\n",
    "        fun = loss,\n",
    "        x0 = [0.5, 5, 5, 5, 5, 0, 0],\n",
    "        bounds = [epsilon_bounds, beta_bounds, beta_bounds, beta_bounds, beta_bounds, bias_bounds, bias_bounds],\n",
    "        args = (cues, actions, rewards),\n",
    "        method = \"Nelder-Mead\"\n",
    "    )\n",
    "    \n",
    "    print(res.x)\n",
    "    min_loss.append(res.fun)"
   ],
   "metadata": {
    "collapsed": false,
    "ExecuteTime": {
     "end_time": "2024-12-06T22:27:23.141075Z",
     "start_time": "2024-12-06T22:26:57.732855Z"
    }
   },
   "id": "7a4314adc8bd3690"
  },
  {
   "cell_type": "code",
   "execution_count": 10,
   "outputs": [
    {
     "data": {
      "text/plain": "2655.6331605212113"
     },
     "execution_count": 10,
     "metadata": {},
     "output_type": "execute_result"
    }
   ],
   "source": [
    "np.sum(min_loss) # 2663"
   ],
   "metadata": {
    "collapsed": false,
    "ExecuteTime": {
     "end_time": "2024-12-06T22:27:23.148535Z",
     "start_time": "2024-12-06T22:27:23.143363Z"
    }
   },
   "id": "239e84bc195e9ba2"
  },
  {
   "cell_type": "code",
   "execution_count": 10,
   "outputs": [],
   "source": [],
   "metadata": {
    "collapsed": false,
    "ExecuteTime": {
     "end_time": "2024-12-06T22:27:23.148589Z",
     "start_time": "2024-12-06T22:27:23.145428Z"
    }
   },
   "id": "db43e65124acfb7"
  }
 ],
 "metadata": {
  "kernelspec": {
   "display_name": "Python 3",
   "language": "python",
   "name": "python3"
  },
  "language_info": {
   "codemirror_mode": {
    "name": "ipython",
    "version": 2
   },
   "file_extension": ".py",
   "mimetype": "text/x-python",
   "name": "python",
   "nbconvert_exporter": "python",
   "pygments_lexer": "ipython2",
   "version": "2.7.6"
  }
 },
 "nbformat": 4,
 "nbformat_minor": 5
}
