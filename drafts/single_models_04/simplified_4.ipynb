{
 "cells": [
  {
   "cell_type": "code",
   "execution_count": 1,
   "id": "initial_id",
   "metadata": {
    "collapsed": true,
    "ExecuteTime": {
     "end_time": "2024-12-06T20:02:16.269742Z",
     "start_time": "2024-12-06T20:02:16.020233Z"
    }
   },
   "outputs": [],
   "source": [
    "import pandas as pd\n",
    "import numpy as np\n",
    "from scipy.optimize import minimize"
   ]
  },
  {
   "cell_type": "code",
   "execution_count": 2,
   "outputs": [],
   "source": [
    "def softmax(x):\n",
    "    exp = np.exp(x)\n",
    "    return exp / np.sum(exp)"
   ],
   "metadata": {
    "collapsed": false,
    "ExecuteTime": {
     "end_time": "2024-12-06T20:02:16.277547Z",
     "start_time": "2024-12-06T20:02:16.270420Z"
    }
   },
   "id": "891b107c2a964bf"
  },
  {
   "cell_type": "code",
   "execution_count": 3,
   "outputs": [],
   "source": [
    "def rescorla_wagner(q_val, epsilon, reward):\n",
    "    return q_val + epsilon * (reward - q_val)"
   ],
   "metadata": {
    "collapsed": false,
    "ExecuteTime": {
     "end_time": "2024-12-06T20:02:16.277636Z",
     "start_time": "2024-12-06T20:02:16.272642Z"
    }
   },
   "id": "51e9c4a960f7f7d6"
  },
  {
   "cell_type": "code",
   "execution_count": 4,
   "outputs": [],
   "source": [
    "def reward(r_t, beta):\n",
    "    if r_t > 0: return beta\n",
    "    if r_t < 0: return -beta\n",
    "    return 0"
   ],
   "metadata": {
    "collapsed": false,
    "ExecuteTime": {
     "end_time": "2024-12-06T20:02:16.277668Z",
     "start_time": "2024-12-06T20:02:16.274815Z"
    }
   },
   "id": "441e932724ed655e"
  },
  {
   "cell_type": "code",
   "execution_count": 5,
   "outputs": [],
   "source": [
    "def bias(a, bias_app, bias_wth):\n",
    "    return bias_app if a == 1 else bias_wth"
   ],
   "metadata": {
    "collapsed": false,
    "ExecuteTime": {
     "end_time": "2024-12-06T20:02:16.281032Z",
     "start_time": "2024-12-06T20:02:16.277882Z"
    }
   },
   "id": "bb98bd3b8c2c83f8"
  },
  {
   "cell_type": "code",
   "execution_count": 6,
   "outputs": [],
   "source": [
    "def log_likelihood(cues, actions, rewards, epsilon, beta, bias_app, bias_wth):\n",
    "    n_stimuli = len(set(cues))\n",
    "    n_actions = len(set(actions))\n",
    "\n",
    "    q_vals = np.zeros((n_stimuli, n_actions))\n",
    "    w_vals = np.zeros((n_stimuli, n_actions))\n",
    "\n",
    "    log_likelihood = 0\n",
    "\n",
    "    for t, a_t in enumerate(actions):\n",
    "        s_t = cues[t] - 1\n",
    "        r_t = reward(rewards[t], beta)\n",
    "\n",
    "        probs = softmax(w_vals[s_t])\n",
    "        log_likelihood += np.log(probs[a_t])\n",
    "\n",
    "        # Update the Q-values using Rescorla-Wagner, add action bias\n",
    "        q_vals[s_t, a_t] = rescorla_wagner(\n",
    "            q_val = q_vals[s_t, a_t],\n",
    "            epsilon = epsilon,\n",
    "            reward = r_t\n",
    "        )\n",
    "\n",
    "        w_vals[s_t, a_t] = q_vals[s_t, a_t] + bias(a_t, bias_app, bias_wth)\n",
    "        w_vals[s_t, 1 - a_t] = q_vals[s_t, 1 - a_t] + bias(1 - a_t, bias_app, bias_wth)\n",
    "\n",
    "    return log_likelihood"
   ],
   "metadata": {
    "collapsed": false,
    "ExecuteTime": {
     "end_time": "2024-12-06T20:02:16.287984Z",
     "start_time": "2024-12-06T20:02:16.281105Z"
    }
   },
   "id": "33fbeafcd8b0efe"
  },
  {
   "cell_type": "code",
   "execution_count": 7,
   "outputs": [],
   "source": [
    "data = pd.read_csv(\"gen_data.csv\")"
   ],
   "metadata": {
    "collapsed": false,
    "ExecuteTime": {
     "end_time": "2024-12-06T20:02:16.288062Z",
     "start_time": "2024-12-06T20:02:16.282881Z"
    }
   },
   "id": "75d26255b36b635c"
  },
  {
   "cell_type": "code",
   "execution_count": 8,
   "outputs": [],
   "source": [
    "def loss(params, cues, actions, rewards):\n",
    "    epsilon, beta, bias_app, bias_wth = params\n",
    "    return -log_likelihood(cues, actions, rewards, epsilon, beta, bias_app, bias_wth)"
   ],
   "metadata": {
    "collapsed": false,
    "ExecuteTime": {
     "end_time": "2024-12-06T20:02:16.290077Z",
     "start_time": "2024-12-06T20:02:16.286890Z"
    }
   },
   "id": "fc5b7e4857031805"
  },
  {
   "cell_type": "code",
   "execution_count": 9,
   "outputs": [],
   "source": [
    "epsilon_bounds = (0.0000001, 0.99999)\n",
    "beta_bounds = (0.0001, 9.9999)\n",
    "bias_bounds = (-0.99999, 0.99999)"
   ],
   "metadata": {
    "collapsed": false,
    "ExecuteTime": {
     "end_time": "2024-12-06T20:02:16.293950Z",
     "start_time": "2024-12-06T20:02:16.288911Z"
    }
   },
   "id": "4f4c5f472808a8c5"
  },
  {
   "cell_type": "code",
   "execution_count": 10,
   "outputs": [],
   "source": [
    "min_loss = []\n",
    "\n",
    "for subject_id in data.ID.unique():\n",
    "    subject = data[data.ID == subject_id]\n",
    "\n",
    "    cues = subject.cue.tolist()\n",
    "    actions = subject.pressed.tolist()\n",
    "    rewards = subject.outcome.tolist()\n",
    "\n",
    "    res = minimize(\n",
    "        fun = loss,\n",
    "        x0 = [0.5, 5, 0, 0],\n",
    "        bounds = [epsilon_bounds, beta_bounds, bias_bounds, bias_bounds],\n",
    "        args = (cues, actions, rewards),\n",
    "        method = \"Nelder-Mead\"\n",
    "    )\n",
    "    \n",
    "    min_loss.append(res.fun)"
   ],
   "metadata": {
    "collapsed": false,
    "ExecuteTime": {
     "end_time": "2024-12-06T20:02:23.050008Z",
     "start_time": "2024-12-06T20:02:16.291254Z"
    }
   },
   "id": "7a4314adc8bd3690"
  },
  {
   "cell_type": "code",
   "execution_count": 11,
   "outputs": [
    {
     "data": {
      "text/plain": "2736.239605368855"
     },
     "execution_count": 11,
     "metadata": {},
     "output_type": "execute_result"
    }
   ],
   "source": [
    "np.sum(min_loss)"
   ],
   "metadata": {
    "collapsed": false,
    "ExecuteTime": {
     "end_time": "2024-12-06T20:02:23.057957Z",
     "start_time": "2024-12-06T20:02:23.051283Z"
    }
   },
   "id": "239e84bc195e9ba2"
  }
 ],
 "metadata": {
  "kernelspec": {
   "display_name": "Python 3",
   "language": "python",
   "name": "python3"
  },
  "language_info": {
   "codemirror_mode": {
    "name": "ipython",
    "version": 2
   },
   "file_extension": ".py",
   "mimetype": "text/x-python",
   "name": "python",
   "nbconvert_exporter": "python",
   "pygments_lexer": "ipython2",
   "version": "2.7.6"
  }
 },
 "nbformat": 4,
 "nbformat_minor": 5
}
