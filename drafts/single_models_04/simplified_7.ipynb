{
 "cells": [
  {
   "cell_type": "code",
   "execution_count": 1,
   "id": "initial_id",
   "metadata": {
    "collapsed": true,
    "ExecuteTime": {
     "end_time": "2024-12-06T23:38:41.456565Z",
     "start_time": "2024-12-06T23:38:41.100730Z"
    }
   },
   "outputs": [],
   "source": [
    "import pandas as pd\n",
    "import numpy as np\n",
    "from scipy.optimize import minimize"
   ]
  },
  {
   "cell_type": "code",
   "execution_count": 2,
   "outputs": [],
   "source": [
    "def softmax(x):\n",
    "    exp = np.exp(x)\n",
    "    return exp / np.sum(exp)"
   ],
   "metadata": {
    "collapsed": false,
    "ExecuteTime": {
     "end_time": "2024-12-06T23:38:41.463525Z",
     "start_time": "2024-12-06T23:38:41.457850Z"
    }
   },
   "id": "891b107c2a964bf"
  },
  {
   "cell_type": "code",
   "execution_count": 3,
   "outputs": [],
   "source": [
    "def rescorla_wagner(q_val, epsilon_app, epsilon_wth, action, reward):\n",
    "    if action == 1:\n",
    "        return q_val + epsilon_app * (reward - q_val)\n",
    "\n",
    "    return q_val + epsilon_wth * (reward - q_val)"
   ],
   "metadata": {
    "collapsed": false,
    "ExecuteTime": {
     "end_time": "2024-12-06T23:38:41.463601Z",
     "start_time": "2024-12-06T23:38:41.460573Z"
    }
   },
   "id": "51e9c4a960f7f7d6"
  },
  {
   "cell_type": "code",
   "execution_count": 4,
   "outputs": [],
   "source": [
    "def reward(r_t, rho_rew, rho_pun):\n",
    "    if r_t > 0: return rho_rew\n",
    "    if r_t < 0: return -rho_pun\n",
    "    return 0"
   ],
   "metadata": {
    "collapsed": false,
    "ExecuteTime": {
     "end_time": "2024-12-06T23:38:41.464862Z",
     "start_time": "2024-12-06T23:38:41.463222Z"
    }
   },
   "id": "441e932724ed655e"
  },
  {
   "cell_type": "code",
   "execution_count": 5,
   "outputs": [],
   "source": [
    "def bias(a, bias_app, bias_wth):\n",
    "    return bias_app if a == 1 else bias_wth"
   ],
   "metadata": {
    "collapsed": false,
    "ExecuteTime": {
     "end_time": "2024-12-06T23:38:41.470982Z",
     "start_time": "2024-12-06T23:38:41.465354Z"
    }
   },
   "id": "bb98bd3b8c2c83f8"
  },
  {
   "cell_type": "code",
   "execution_count": 6,
   "outputs": [],
   "source": [
    "def log_likelihood(cues, actions, rewards, epsilon_app, epsilon_wth, rho_rew, rho_pun, bias_app, bias_wth):\n",
    "    n_stimuli = len(set(cues))\n",
    "    n_actions = len(set(actions))\n",
    "\n",
    "    q_vals = np.zeros((n_stimuli, n_actions))\n",
    "\n",
    "    log_likelihood = 0\n",
    "\n",
    "    for t, a_t in enumerate(actions):\n",
    "        s_t = cues[t] - 1\n",
    "        r_t = reward(rewards[t], rho_rew, rho_pun)\n",
    "\n",
    "        qs = q_vals[s_t] + [ bias_wth, bias_app ]\n",
    "\n",
    "        probs = softmax(qs)\n",
    "        log_likelihood += np.log(probs[a_t])\n",
    "\n",
    "        # Update the Q-values using Rescorla-Wagner, add action bias\n",
    "        q_vals[s_t, a_t] = rescorla_wagner(\n",
    "            q_val = q_vals[s_t, a_t],\n",
    "            epsilon_app = epsilon_app,\n",
    "            epsilon_wth = epsilon_wth,\n",
    "            action = a_t,\n",
    "            reward = r_t\n",
    "        )\n",
    "\n",
    "    return log_likelihood"
   ],
   "metadata": {
    "collapsed": false,
    "ExecuteTime": {
     "end_time": "2024-12-06T23:38:41.471057Z",
     "start_time": "2024-12-06T23:38:41.468507Z"
    }
   },
   "id": "33fbeafcd8b0efe"
  },
  {
   "cell_type": "code",
   "execution_count": 7,
   "outputs": [],
   "source": [
    "data = pd.read_csv(\"gen_data.csv\")"
   ],
   "metadata": {
    "collapsed": false,
    "ExecuteTime": {
     "end_time": "2024-12-06T23:38:41.477435Z",
     "start_time": "2024-12-06T23:38:41.470507Z"
    }
   },
   "id": "75d26255b36b635c"
  },
  {
   "cell_type": "code",
   "execution_count": 8,
   "outputs": [],
   "source": [
    "def loss(params, cues, actions, rewards):\n",
    "    epsilon_app, epsilon_wth, rho_rew, rho_pun, bias_app, bias_wth = params\n",
    "    return -log_likelihood(cues, actions, rewards, epsilon_app, epsilon_wth, rho_rew, rho_pun, bias_app, bias_wth)"
   ],
   "metadata": {
    "collapsed": false,
    "ExecuteTime": {
     "end_time": "2024-12-06T23:38:41.477499Z",
     "start_time": "2024-12-06T23:38:41.474272Z"
    }
   },
   "id": "fc5b7e4857031805"
  },
  {
   "cell_type": "code",
   "execution_count": 9,
   "outputs": [],
   "source": [
    "epsilon_bounds = (0.0000001, 0.99999)\n",
    "beta_bounds = (0.0001, 9.9999)\n",
    "bias_bounds = (-0.99999, 0.99999)"
   ],
   "metadata": {
    "collapsed": false,
    "ExecuteTime": {
     "end_time": "2024-12-06T23:38:41.478312Z",
     "start_time": "2024-12-06T23:38:41.476308Z"
    }
   },
   "id": "4f4c5f472808a8c5"
  },
  {
   "cell_type": "code",
   "execution_count": 10,
   "outputs": [],
   "source": [
    "min_loss = []\n",
    "\n",
    "for subject_id in data.ID.unique():\n",
    "    subject = data[data.ID == subject_id]\n",
    "\n",
    "    cues = subject.cue.tolist()\n",
    "    actions = subject.pressed.tolist()\n",
    "    rewards = subject.outcome.tolist()\n",
    "\n",
    "    res = minimize(\n",
    "        fun = loss,\n",
    "        x0 = [0.5, 0.5, 5, 5, 0, 0],\n",
    "        bounds = [epsilon_bounds, epsilon_bounds, beta_bounds, beta_bounds, bias_bounds, bias_bounds],\n",
    "        args = (cues, actions, rewards),\n",
    "        method = \"Nelder-Mead\"\n",
    "    )\n",
    "    \n",
    "    min_loss.append(res.fun)"
   ],
   "metadata": {
    "collapsed": false,
    "ExecuteTime": {
     "end_time": "2024-12-06T23:39:01.001548Z",
     "start_time": "2024-12-06T23:38:41.480055Z"
    }
   },
   "id": "7a4314adc8bd3690"
  },
  {
   "cell_type": "code",
   "execution_count": 11,
   "outputs": [
    {
     "data": {
      "text/plain": "2682.4008837954207"
     },
     "execution_count": 11,
     "metadata": {},
     "output_type": "execute_result"
    }
   ],
   "source": [
    "np.sum(min_loss) # 2682"
   ],
   "metadata": {
    "collapsed": false,
    "ExecuteTime": {
     "end_time": "2024-12-06T23:39:01.010686Z",
     "start_time": "2024-12-06T23:39:01.003943Z"
    }
   },
   "id": "239e84bc195e9ba2"
  }
 ],
 "metadata": {
  "kernelspec": {
   "display_name": "Python 3",
   "language": "python",
   "name": "python3"
  },
  "language_info": {
   "codemirror_mode": {
    "name": "ipython",
    "version": 2
   },
   "file_extension": ".py",
   "mimetype": "text/x-python",
   "name": "python",
   "nbconvert_exporter": "python",
   "pygments_lexer": "ipython2",
   "version": "2.7.6"
  }
 },
 "nbformat": 4,
 "nbformat_minor": 5
}
