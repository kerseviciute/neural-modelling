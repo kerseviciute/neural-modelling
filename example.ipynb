{
 "cells": [
  {
   "cell_type": "code",
   "execution_count": 9,
   "id": "initial_id",
   "metadata": {
    "collapsed": true,
    "ExecuteTime": {
     "end_time": "2024-11-21T14:39:36.726591Z",
     "start_time": "2024-11-21T14:39:36.719150Z"
    }
   },
   "outputs": [],
   "source": [
    "import numpy as np\n",
    "from scipy.optimize import minimize"
   ]
  },
  {
   "cell_type": "code",
   "execution_count": 10,
   "outputs": [],
   "source": [
    "def coin_tosser(p, n = 1000):\n",
    "    tosses = np.random.rand(n) < p\n",
    "    return tosses"
   ],
   "metadata": {
    "collapsed": false,
    "ExecuteTime": {
     "end_time": "2024-11-21T14:39:36.930412Z",
     "start_time": "2024-11-21T14:39:36.925085Z"
    }
   },
   "id": "24b9d5dcb9004de5"
  },
  {
   "cell_type": "code",
   "execution_count": 11,
   "outputs": [],
   "source": [
    "def coin_log_like(tosses, p):\n",
    "    return tosses.sum() * np.log(p) + np.sum(1 - tosses) * np.log(1 - p)"
   ],
   "metadata": {
    "collapsed": false,
    "ExecuteTime": {
     "end_time": "2024-11-21T14:39:37.150566Z",
     "start_time": "2024-11-21T14:39:37.146938Z"
    }
   },
   "id": "ff035918eb26314d"
  },
  {
   "cell_type": "code",
   "execution_count": 12,
   "outputs": [],
   "source": [
    "example = coin_tosser(0.2)"
   ],
   "metadata": {
    "collapsed": false,
    "ExecuteTime": {
     "end_time": "2024-11-21T14:39:37.358228Z",
     "start_time": "2024-11-21T14:39:37.353555Z"
    }
   },
   "id": "bc08e6cab3fd1966"
  },
  {
   "cell_type": "code",
   "execution_count": 13,
   "outputs": [],
   "source": [
    "def loss(p):\n",
    "    return -coin_log_like(example, p)"
   ],
   "metadata": {
    "collapsed": false,
    "ExecuteTime": {
     "end_time": "2024-11-21T14:39:37.936889Z",
     "start_time": "2024-11-21T14:39:37.930982Z"
    }
   },
   "id": "e781ddf45e5099"
  },
  {
   "cell_type": "code",
   "execution_count": 19,
   "outputs": [],
   "source": [
    "res = minimize(loss, [0.5], bounds = [(0.00001, 0.99999)])"
   ],
   "metadata": {
    "collapsed": false,
    "ExecuteTime": {
     "end_time": "2024-11-21T14:41:42.531888Z",
     "start_time": "2024-11-21T14:41:42.523804Z"
    }
   },
   "id": "59892fb072eb40d1"
  },
  {
   "cell_type": "code",
   "execution_count": 20,
   "outputs": [
    {
     "name": "stdout",
     "output_type": "stream",
     "text": [
      "  message: CONVERGENCE: NORM_OF_PROJECTED_GRADIENT_<=_PGTOL\n",
      "  success: True\n",
      "   status: 0\n",
      "      fun: 494.8069933530668\n",
      "        x: [ 1.960e-01]\n",
      "      nit: 7\n",
      "      jac: [ 5.684e-06]\n",
      "     nfev: 18\n",
      "     njev: 9\n",
      " hess_inv: <1x1 LbfgsInvHessProduct with dtype=float64>\n"
     ]
    }
   ],
   "source": [
    "print(res)"
   ],
   "metadata": {
    "collapsed": false,
    "ExecuteTime": {
     "end_time": "2024-11-21T14:41:43.114873Z",
     "start_time": "2024-11-21T14:41:43.110164Z"
    }
   },
   "id": "d5fafce14fbacb48"
  },
  {
   "cell_type": "code",
   "execution_count": null,
   "outputs": [],
   "source": [
    "# fun -- negative log likelihood"
   ],
   "metadata": {
    "collapsed": false
   },
   "id": "bdbedfe3b5fb661a"
  }
 ],
 "metadata": {
  "kernelspec": {
   "display_name": "Python 3",
   "language": "python",
   "name": "python3"
  },
  "language_info": {
   "codemirror_mode": {
    "name": "ipython",
    "version": 2
   },
   "file_extension": ".py",
   "mimetype": "text/x-python",
   "name": "python",
   "nbconvert_exporter": "python",
   "pygments_lexer": "ipython2",
   "version": "2.7.6"
  }
 },
 "nbformat": 4,
 "nbformat_minor": 5
}
